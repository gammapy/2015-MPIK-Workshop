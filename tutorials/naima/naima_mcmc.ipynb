{
 "cells": [
  {
   "cell_type": "markdown",
   "metadata": {},
   "source": [
    "# SED fitting with naima\n",
    "\n",
    "In this notebook we will carry out a fit of an IC model to the HESS spectrum of [RX J1713.7-3946](http://tevcat.uchicago.edu/?mode=1;id=84) with the naima wrapper around [emcee](http://dfm.io/emcee). This tutorial will follow loosely [the tutorial found on the naima documentation](http://naima.readthedocs.org/en/latest/tutorial.html).\n",
    "\n",
    "The first step is to load the data, which we can find in the same directory as this notebook. The data format required by naima for the data files can be found [in the documentation](http://naima.readthedocs.org/en/latest/dataformat.html)."
   ]
  },
  {
   "cell_type": "code",
   "execution_count": null,
   "metadata": {
    "collapsed": false
   },
   "outputs": [],
   "source": [
    "import naima\n",
    "from astropy.io import ascii\n",
    "import astropy.units as u\n",
    "%matplotlib inline\n",
    "\n",
    "hess_spectrum = ascii.read('RXJ1713_HESS_2007.dat', format='ipac')\n",
    "fig = naima.plot_data(hess_spectrum)"
   ]
  },
  {
   "cell_type": "markdown",
   "metadata": {},
   "source": [
    "The we define the model to be fit. The model function must take a tuple of free parameters as first argument and a data table as second. It must return the model flux at the energies given by `data['energy']` in first place, and any extra objects will be saved with the MCMC chain. \n",
    "\n",
    "`emcee` does not accept astropy Quantities as parameters, so we have to give them units before setting the attributes of the particle distribution function.\n",
    "\n",
    "Here we define an IC model with an Exponential Cutoff Power-Law with the amplitude, index, and cutoff energy as free parameters. Because the amplitude and cutoff energy may be considered to have a uniform prior in log-space, we sample their decimal logarithms. We also place a uniform prior on the particle index with limits between -1 and 5."
   ]
  },
  {
   "cell_type": "code",
   "execution_count": null,
   "metadata": {
    "collapsed": true
   },
   "outputs": [],
   "source": [
    "from naima.models import ExponentialCutoffPowerLaw, InverseCompton\n",
    "from naima import uniform_prior\n",
    "\n",
    "ECPL = ExponentialCutoffPowerLaw(1e36/u.eV, 10*u.TeV, 2.7, 50*u.TeV)\n",
    "IC = InverseCompton(ECPL, seed_photon_fields=['CMB', ['FIR', 30*u.K, 0.4*u.eV/u.cm**3]])\n",
    "\n",
    "# define labels and initial vector for the parameters\n",
    "labels = ['log10(norm)', 'index', 'log10(cutoff)']\n",
    "p0 = np.array((34, 2.7, np.log10(30)))\n",
    "\n",
    "# define the model function\n",
    "def model(pars, data):\n",
    "    ECPL.amplitude = (10**pars[0]) / u.eV\n",
    "    ECPL.alpha = pars[1]\n",
    "    ECPL.e_cutoff = (10**pars[2]) * u.TeV\n",
    "\n",
    "    return IC.flux(data['energy'], distance=2.0*u.kpc), IC.compute_We(Eemin=1*u.TeV)\n",
    "\n",
    "from naima import uniform_prior\n",
    "\n",
    "def lnprior(pars):\n",
    "    lnprior = uniform_prior(pars[1], -1, 5)\n",
    "    return lnprior"
   ]
  },
  {
   "cell_type": "markdown",
   "metadata": {},
   "source": [
    "We take the data, model, prior, parameter vector, and labels and call the main fitting procedure: `naima.run_sampler`. This function is a wrapper around `emcee`, and the details of the MCMC run can be configured through its arguments:\n",
    "\n",
    "- `nwalkers`: number of emcee walkers.\n",
    "- `nburn`: number of steps to take for the burn-in period. These steps will be discarded in the final results.\n",
    "- `nrun`: number of steps to take and save to the sampler chain.\n",
    "- `prefit`: whether to do a Nelder-Mead fit before starting the MCMC run (reduces the burn-in steps required).\n",
    "- `interactive`: whether to launch an interactive model fitter before starting the run to set the initial vector. This will only work in matplotlib is using a GUI backend (qt4, qt5, gtkagg, tkagg, etc.). The final parameters when you close the window will be used as starting point for the run.\n",
    "- `threads`: How many different threads (CPU cores) to use when computing the likelihood."
   ]
  },
  {
   "cell_type": "code",
   "execution_count": null,
   "metadata": {
    "collapsed": false
   },
   "outputs": [],
   "source": [
    "sampler, pos = naima.run_sampler(data_table=hess_spectrum, model=model, prior=lnprior, p0=p0, labels=labels,\n",
    "                                nwalkers=32, nburn=50, nrun=100, prefit=True, threads=4)"
   ]
  },
  {
   "cell_type": "code",
   "execution_count": null,
   "metadata": {
    "collapsed": false
   },
   "outputs": [],
   "source": [
    "# inspect the chains stored in the sampler for the three free parameters\n",
    "f = naima.plot_chain(sampler, 0)\n",
    "f = naima.plot_chain(sampler, 1)\n",
    "f = naima.plot_chain(sampler, 2)"
   ]
  },
  {
   "cell_type": "code",
   "execution_count": null,
   "metadata": {
    "collapsed": false
   },
   "outputs": [],
   "source": [
    "# make a corner plot of the parameters to show covariances\n",
    "f = naima.plot_corner(sampler)"
   ]
  },
  {
   "cell_type": "code",
   "execution_count": null,
   "metadata": {
    "collapsed": false
   },
   "outputs": [],
   "source": [
    "# Show the fit\n",
    "f = naima.plot_fit(sampler)\n",
    "f.axes[0].set_ylim(bottom=1e-13)"
   ]
  },
  {
   "cell_type": "code",
   "execution_count": null,
   "metadata": {
    "collapsed": false
   },
   "outputs": [],
   "source": [
    "# Inspect the metadata blob saved\n",
    "f = naima.plot_blob(sampler,1, label='$W_e (E_e>1$ TeV)')"
   ]
  },
  {
   "cell_type": "code",
   "execution_count": null,
   "metadata": {
    "collapsed": false
   },
   "outputs": [],
   "source": [
    "# There is also a convenience function that will plot all the above files to pngs or a single pdf\n",
    "naima.save_diagnostic_plots('RXJ1713_naima_fit', sampler, blob_labels=['Spectrum','$W_e (E_e>1$ TeV)'])"
   ]
  },
  {
   "cell_type": "markdown",
   "metadata": {},
   "source": [
    "# Simultaneous fitting of two radiative components: Synchrotron and IC. \n",
    "\n",
    "Use the Suzaku XIS spectrum of RX J1713 to do a simultaneous fit of the synchrotron and inverse Compton spectra and derive an estimate of the magnetic field strength under the assumption of a leptonic scenario."
   ]
  },
  {
   "cell_type": "code",
   "execution_count": null,
   "metadata": {
    "collapsed": false
   },
   "outputs": [],
   "source": [
    "suzaku_spectrum = ascii.read('RXJ1713_Suzaku-XIS.dat')\n",
    "f=naima.plot_data(suzaku_spectrum)"
   ]
  },
  {
   "cell_type": "markdown",
   "metadata": {},
   "source": [
    "Note that in all naima functions (including `run_sampler`) you can provide a list of spectra, so you can consider both the HESS and Suzaku spectra:"
   ]
  },
  {
   "cell_type": "code",
   "execution_count": null,
   "metadata": {
    "collapsed": false
   },
   "outputs": [],
   "source": [
    "f=naima.plot_data([suzaku_spectrum, hess_spectrum], sed=True)"
   ]
  },
  {
   "cell_type": "markdown",
   "metadata": {},
   "source": [
    "Below is the model, labels, parameters and prior defined above for the IC-only fit. Modify it as needed and feed it to `naima.run_sampler` to obtain an estimate of the magnetic field strength."
   ]
  },
  {
   "cell_type": "code",
   "execution_count": null,
   "metadata": {
    "collapsed": true
   },
   "outputs": [],
   "source": [
    "#from naima.models import ExponentialCutoffPowerLaw, InverseCompton\n",
    "#from naima import uniform_prior\n",
    "\n",
    "#ECPL = ExponentialCutoffPowerLaw(1e36/u.eV, 10*u.TeV, 2.7, 50*u.TeV)\n",
    "#IC = InverseCompton(ECPL, seed_photon_fields=['CMB', ['FIR', 30*u.K, 0.4*u.eV/u.cm**3]])\n",
    "\n",
    "## define labels and initial vector for the parameters\n",
    "#labels = ['log10(norm)', 'index', 'log10(cutoff)']\n",
    "#p0 = np.array((34, 2.7, np.log10(30)))\n",
    "\n",
    "## define the model function\n",
    "#def model(pars, data):\n",
    "#    ECPL.amplitude = (10**pars[0]) / u.eV\n",
    "#    ECPL.alpha = pars[1]\n",
    "#    ECPL.e_cutoff = (10**pars[2]) * u.TeV\n",
    "\n",
    "#    return IC.flux(data['energy'], distance=2.0*u.kpc), IC.compute_We(Eemin=1*u.TeV)\n",
    "\n",
    "#from naima import uniform_prior\n",
    "\n",
    "#def lnprior(pars):\n",
    "#    lnprior = uniform_prior(pars[1], -1, 5)\n",
    "#    return lnprior"
   ]
  }
 ],
 "metadata": {
  "kernelspec": {
   "display_name": "Python 3",
   "language": "python",
   "name": "python3"
  },
  "language_info": {
   "codemirror_mode": {
    "name": "ipython",
    "version": 3
   },
   "file_extension": ".py",
   "mimetype": "text/x-python",
   "name": "python",
   "nbconvert_exporter": "python",
   "pygments_lexer": "ipython3",
   "version": "3.4.3"
  }
 },
 "nbformat": 4,
 "nbformat_minor": 0
}
