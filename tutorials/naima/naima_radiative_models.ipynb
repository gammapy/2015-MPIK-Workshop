{
 "cells": [
  {
   "cell_type": "markdown",
   "metadata": {},
   "source": [
    "# Naima Radiative Models"
   ]
  },
  {
   "cell_type": "markdown",
   "metadata": {},
   "source": [
    "Welcome to the _naima_ radiative models tutorial! \n",
    "\n",
    "Useful references:\n",
    "\n",
    "- [naima code at github](http://github.com/zblz/naima)\n",
    "- [naima documentation](http://naima.readthedocs.org)\n",
    "- [naima ICRC proceedings](http://arxiv.org/abs/1509.03319)\n",
    "- [Monday's talk on naima](https://github.com/gammapy/PyGamma15/tree/gh-pages/talks/naima)\n",
    "\n",
    "2nd part of this tutorial: [MCMC model fitting of a galactic non-thermal source](https://github.com/gammapy/PyGamma15/tree/gh-pages/tutorials/naima/naima-mcmc.ipynb)\n",
    "\n",
    "naima is named after a ballad composed by John Coltrane, so a few [performances](https://www.youtube.com/watch?v=QTMqes6HDqU) [by him](https://www.youtube.com/watch?v=Tq3-99vbFt8) and [others](https://www.youtube.com/watch?v=oPiDFQJ15P8) might be an appropriate soundtrack for the tutorial."
   ]
  },
  {
   "cell_type": "code",
   "execution_count": null,
   "metadata": {
    "collapsed": false
   },
   "outputs": [],
   "source": [
    "#prepare imports\n",
    "import numpy as np\n",
    "import astropy.units as u\n",
    "import naima\n",
    "%matplotlib inline\n",
    "import matplotlib.pyplot as plt\n",
    "plt.rcParams['lines.linewidth'] = 2"
   ]
  },
  {
   "cell_type": "markdown",
   "metadata": {},
   "source": [
    "Note: Astropy units are used throughout this tutorial, see a [short primer in the naima docs](http://naima.readthedocs.org/en/latest/units.html) and [a longer one in the astropy docs](http://docs.astropy.org/en/stable/units/)."
   ]
  },
  {
   "cell_type": "markdown",
   "metadata": {},
   "source": [
    "## Exploring the naima radiative models"
   ]
  },
  {
   "cell_type": "markdown",
   "metadata": {},
   "source": [
    "naima provides several radiative models and functional models than can be used together to compute the radiative output from populations of relativistic particle populations. \n",
    "\n",
    "### General concepts\n",
    "\n",
    "\n",
    "In general, the radiative output for a given channel can be computed as:\n",
    "\n",
    "$$L(\\epsilon)=\\iiiint E\\,N(E, \\vec{r})\\,c\\,n(\\epsilon_0)\\,\\frac{\\mathrm{d}\n",
    "\\sigma(E,\\epsilon_0,\\epsilon,\\Omega)}{\\mathrm{d} \\Omega} \\mathrm{d}\\Omega\\, \\mathrm{d}\\epsilon_0\\, \\mathrm{d} E\\, \\mathrm{d} V,\n",
    "$$\n",
    "\n",
    "where $E$ is the particle energy, $\\epsilon$ the emitted photon energy, $\\sigma$ the cross-section of the process, which might depend on the angle of interaction, $n(\\epsilon_0)$ is the density of target particles or photons at energy $\\epsilon_0$, and $N(E)$ is the energy distribution of the relativistic particle population. In a one-zone model, the properties are assumed homogeneous over the whole volume, so one fewer integral is needed:\n",
    "\n",
    "$$L(\\epsilon)=\\iiint E\\,N(E)\\,c\\,n(\\epsilon_0)\\,\\frac{\\mathrm{d}\n",
    "\\sigma(E,\\epsilon_0,\\epsilon,\\Omega)}{\\mathrm{d} \\Omega} \\mathrm{d}\\Omega\\, \\mathrm{d}\\epsilon_0\\, \\mathrm{d} E,\n",
    "$$\n",
    "\n",
    "One of the most prevalent mechanisms of particle acceleration is [diffusive shock acceleration](http://adsabs.harvard.edu/abs/1978MNRAS.182..147B), which, for a strong shock, results in a powerlaw particle energy distribution with index $p=2$. The acceleration timescale increases with particle energy, and at some energy it will be longer than either the radiative or non-radiative losses of the particle or longer than the age of the source. At this energy the particle distribution will show a quasi-exponential cutoff. \n",
    "\n",
    "Energy losses might modify the present-age particle distribution, typically making the distribution softer. This might only happen at higher energies, giving rise to a broken power-law energy distribution.\n",
    "\n",
    "For a given relativistic particle population, there are different channels that can result in photon emission depending on the target of the interaction:\n",
    "\n",
    "- *Synchrotron*: Charged particles will radiate as they girate in magnetic fields.\n",
    "- *Inverse Compton*: Upscattering of seed photon fields by electrons.\n",
    "- *Bremsstrahlung*: Charged particles radiate as they are accelerated by nearby particles.\n",
    "- *Pion Decay*: Proton-proton interactions results in pions that decay into gamma-rays.\n",
    "\n",
    "### naima models\n",
    "\n",
    "naima has the following radiative models available in the `naima.models` module:\n",
    "\n",
    "- ``Synchrotron``\n",
    "- ``InverseCompton``\n",
    "- ``PionDecay``\n",
    "- ``Bremsstrahlung``\n",
    "\n",
    "All of them take as first argument a particle distribution function, which can be one of the functional models in `naima` (currently ``PowerLaw``, ``BrokenPowerLaw``, ``ExponentialCutoffPowerLaw``, ``ExponentialCutoffBrokenPowerLaw``, ``LogParabola``). You can find out the arguments they take by looking at their docstrings:\n"
   ]
  },
  {
   "cell_type": "code",
   "execution_count": null,
   "metadata": {
    "collapsed": false
   },
   "outputs": [],
   "source": [
    "naima.models.Synchrotron?"
   ]
  },
  {
   "cell_type": "markdown",
   "metadata": {},
   "source": [
    "### Leptonic models\n",
    "\n",
    "The first step is to define the particle distribution we will use, and we'll start with a power-law with an exponential cutoff. The amplitude must be in units of particles per unit energy:"
   ]
  },
  {
   "cell_type": "code",
   "execution_count": null,
   "metadata": {
    "collapsed": false,
    "scrolled": true
   },
   "outputs": [],
   "source": [
    "ECPL = naima.models.ExponentialCutoffBrokenPowerLaw(amplitude=1e36/u.eV, e_0=1*u.TeV, alpha_1=2.0,\n",
    "                                                    alpha_2=3.0, e_break=0.2*u.TeV, e_cutoff=50*u.TeV,\n",
    "                                                    beta=2)\n",
    "#check the shape of the particle distribution\n",
    "electron_energy = np.logspace(-3, 3, 1000) * u.TeV\n",
    "plt.loglog(electron_energy, (electron_energy**2 * ECPL(electron_energy)).to('erg'))\n",
    "plt.axvline(0.2, ls=':', lw=1, c='k'); plt.axvline(50, ls=':', lw=1, c='k')\n",
    "plt.gca().set_ylim(bottom=1e42)\n",
    "plt.xlabel('Particle energy [TeV]')\n",
    "plt.ylabel('$E^2 N(E)$ [erg]')"
   ]
  },
  {
   "cell_type": "markdown",
   "metadata": {},
   "source": [
    "Now we can define the radiative channels we want to compute with this particle distribution. We will consider it to be an electron population, and compute its synchrotron SED in a magnetic field strength of $B=10\\mu G$ at a distance of 1 kpc:"
   ]
  },
  {
   "cell_type": "code",
   "execution_count": null,
   "metadata": {
    "collapsed": false
   },
   "outputs": [],
   "source": [
    "SY = naima.models.Synchrotron(ECPL, B=10*u.uG)\n",
    "photon_energy = np.logspace(-5, 5, 100)*u.eV\n",
    "SY_sed0 = SY.sed(photon_energy, distance=1*u.kpc)\n",
    "plt.loglog(photon_energy, SY_sed0)\n",
    "plt.axvspan(1e3,1e4, fc='k', alpha=0.3)\n",
    "plt.xlabel('Photon energy [eV]')\n",
    "plt.ylabel('$E^2 dN/dE\\ [\\mathrm{erg\\ cm^{-2}\\ s^{-1}}]$')"
   ]
  },
  {
   "cell_type": "markdown",
   "metadata": {},
   "source": [
    "Now we can use the same particle distribution in an Inverse Compton class to compute its IC emission. We will use the interstellar radiation fields computed from the GALPROP model at a galactocentric distance of ~6 kpc:\n",
    "\n",
    "Name | Temperature | Energy density\n",
    "-----|-------------|---------------\n",
    "CMB | 2.72 K | 0.216 eV/cm$^3$\n",
    "Far infrared | 27 K | 0.415 eV/cm$^3$\n",
    "Near infrared | 2800 K | 0.802 eV/cm$^3$\n",
    "\n",
    "The total IC emission should be slighlty lower than the synchrotron emission, given that (in the Thomson regime for IC) the ratio between the Synchrotron and IC luminosities corresponds to the ration of target energy densities:\n",
    "\n",
    "$$\\frac{L_{sy}}{L_{IC}} = \\frac{u_B}{u_\\gamma} = \\frac{B^2}{8\\pi u_\\gamma} \\simeq 1.73$$\n",
    "\n",
    "\n"
   ]
  },
  {
   "cell_type": "code",
   "execution_count": null,
   "metadata": {
    "collapsed": false
   },
   "outputs": [],
   "source": [
    "IC = naima.models.InverseCompton(ECPL,\n",
    "                   seed_photon_fields=['CMB',\n",
    "                                       ['FIR', 27*u.K, 0.415*u.eV/u.cm**3],\n",
    "                                       ['NIR', 2800*u.K, 0.802*u.eV/u.cm**3]])\n",
    "\n",
    "# The particle_distribution attribute in IC and SY now point to the same object:\n",
    "print('Are the SY and IC particle distributions the same object? {0}'.format(\n",
    "        IC.particle_distribution is SY.particle_distribution))\n",
    "\n",
    "# and we compute the SED from optical to TeV\n",
    "photon_energy = np.logspace(-5, 15, 100) * u.eV\n",
    "f, ax = plt.subplots(1)\n",
    "\n",
    "# plot the total SED from SY and IC\n",
    "ax.loglog(photon_energy, SY.sed(photon_energy), label='Synchrotron')\n",
    "ax.loglog(photon_energy, IC.sed(photon_energy), label='IC (total)')\n",
    "\n",
    "# plot the SEDs from each of the seed photon fields with seed argument\n",
    "ax.loglog(photon_energy, IC.sed(photon_energy, seed='CMB'), \n",
    "              label='IC (CMB)', ls='--', lw=1)\n",
    "ax.loglog(photon_energy, IC.sed(photon_energy, seed='FIR'), \n",
    "              label='IC (FIR)', ls='--', lw=1)\n",
    "ax.loglog(photon_energy, IC.sed(photon_energy, seed='NIR'), \n",
    "              label='IC (NIR)', ls='--', lw=1)\n",
    "\n",
    "ax.set_xlabel('Photon energy [eV]')\n",
    "ax.set_ylabel('$E^2 dN/dE$ [erg s$^{-1}$ cm$^{-2}$]')\n",
    "ax.legend(loc='lower left')\n",
    "ax.set_ylim(bottom=1e-14)\n"
   ]
  },
  {
   "cell_type": "markdown",
   "metadata": {},
   "source": [
    "\n",
    "Now we will explore how to modify the parameters of an already defined radiative model. We can modify the values of the particle distribution parameters and this will propagate to the radiative classes:"
   ]
  },
  {
   "cell_type": "code",
   "execution_count": null,
   "metadata": {
    "collapsed": false
   },
   "outputs": [],
   "source": [
    "ECPL.e_cutoff = 50*u.TeV\n",
    "plt.loglog(photon_energy, SY.sed(photon_energy) + IC.sed(photon_energy), label='$E_\\mathrm{c}$ = 50 TeV')\n",
    "ECPL.e_cutoff = 100*u.TeV\n",
    "plt.loglog(photon_energy, SY.sed(photon_energy) + IC.sed(photon_energy), label='$E_\\mathrm{c}$ = 100 TeV')\n",
    "\n",
    "plt.legend(loc='best')\n",
    "plt.xlabel('Photon energy [eV]')\n",
    "plt.ylabel('$E^2 dN/dE$ [erg/cm2/s]')\n",
    "plt.ylim(bottom=1e-12)"
   ]
  },
  {
   "cell_type": "markdown",
   "metadata": {},
   "source": [
    "You can also modify the normalization by specifying the total energy in electrons with the ``set_We`` function:"
   ]
  },
  {
   "cell_type": "code",
   "execution_count": null,
   "metadata": {
    "collapsed": false
   },
   "outputs": [],
   "source": [
    "f, ax = plt.subplots(1)\n",
    "print('before setting We -- ECPL.amplitude = {0}'.format(ECPL.amplitude))\n",
    "IC.set_We(5e48 * u.erg, Eemin=0.1*u.TeV) # 5x10^48 erg in electrons above 100 GeV\n",
    "print('after  setting We -- ECPL.amplitude = {0}'.format(ECPL.amplitude))\n",
    "ax.loglog(photon_energy, SY.sed(photon_energy) + IC.sed(photon_energy), label=r'$5\\times10^{48}$ erg', c='k')\n",
    "\n",
    "IC.set_We(5e47 * u.erg, Eemin=0.1*u.TeV) # 5x10^47 erg in electrons above 100 GeV\n",
    "ax.loglog(photon_energy, SY.sed(photon_energy) + IC.sed(photon_energy), label=r'$5\\times10^{47}$ erg', c='r')\n",
    "\n",
    "#plot label stuff\n",
    "ax.set_xlabel('Photon energy [eV]')\n",
    "ax.set_ylabel('$E^2 dN/dE$ [erg s$^{-1}$ cm$^{-2}$]')\n",
    "ax.legend(loc='lower left')\n",
    "ax.set_ylim(bottom=1e-13)\n"
   ]
  },
  {
   "cell_type": "code",
   "execution_count": null,
   "metadata": {
    "collapsed": false
   },
   "outputs": [],
   "source": [
    "f, ax = plt.subplots(1)\n",
    "for B in [0.1, 1, 10, 100, 1000]*u.uG:\n",
    "    SY.B = B\n",
    "    ax.loglog(photon_energy, SY.sed(photon_energy) + IC.sed(photon_energy),\n",
    "              label=r'$B$ = {0}'.format(B))\n",
    "    \n",
    "#plot label stuff\n",
    "ax.set_xlabel('Photon energy [eV]')\n",
    "ax.set_ylabel('$E^2 dN/dE$ [erg s$^{-1}$ cm$^{-2}$]')\n",
    "ax.legend(loc='best')\n",
    "ax.set_ylim(bottom=1e-15)"
   ]
  },
  {
   "cell_type": "markdown",
   "metadata": {},
   "source": [
    "#### Klein-Nishina demo\n",
    "\n",
    "The regime of Inverse Compton radiation depends on the product of the energy of the seed photon $\\epsilon_0$ and the energy of the electron $E_e$ in units of $m_e c^2$: $\\kappa_0=\\epsilon_0 E_e/(m_e^2 c^4)$. For $\\kappa_0<<1$ IC proceeds in the Thomson regime (with cross section increasing with energy), and at $\\kappa_0>>1$ it proceeds in the Klein-Nishina regime, in which the emission from a gievn electron energy is close to monochromatic and the cross section diminishes rapidly with energy, leading to a break in the photon spectrum in the transition between the two regimes."
   ]
  },
  {
   "cell_type": "code",
   "execution_count": null,
   "metadata": {
    "collapsed": false
   },
   "outputs": [],
   "source": [
    "PL = naima.models.PowerLaw(1e36/u.eV, e_0=1*u.TeV, alpha=3.0)\n",
    "IC_KN = naima.models.InverseCompton(PL, seed_photon_fields=[\n",
    "                                        ['CMB', 2.7*u.K,  1*u.eV/u.cm**3],\n",
    "                                        ['FIR', 70*u.K,   1*u.eV/u.cm**3],\n",
    "                                        ['NIR', 1800*u.K, 1*u.eV/u.cm**3]])\n",
    "\n",
    "# Set maximum and minimum electron energies to a very wide range\n",
    "IC_KN.Eemax = 10*u.PeV\n",
    "IC_KN.Eemin = 1*u.MeV\n",
    "\n",
    "# compute the three IC spectra\n",
    "photon_energy = np.logspace(-6, 3, 100) * u.TeV\n",
    "for seed in ['CMB', 'FIR', 'NIR']:\n",
    "    plt.loglog(photon_energy, IC_KN.sed(photon_energy, seed=seed), \n",
    "              label='$T_{{0}}$ = {0:.1f}'.format(IC.seed_photon_fields[seed]['T']), lw=1)\n",
    "    \n",
    "# plot labels\n",
    "plt.legend(loc='best')\n",
    "plt.ylim(bottom=1e-12)\n",
    "plt.xlabel('Photon energy [TeV]')\n",
    "plt.ylabel('$E^2 dN/dE$ [erg s$^{-1}$ cm$^{-2}$]')"
   ]
  },
  {
   "cell_type": "markdown",
   "metadata": {},
   "source": [
    "### Pion Decay\n",
    "\n",
    "Now we can explore the pion decay emission from a relativistic proton distribution. We define a new particle distribution:\n",
    "\n"
   ]
  },
  {
   "cell_type": "code",
   "execution_count": null,
   "metadata": {
    "collapsed": false
   },
   "outputs": [],
   "source": [
    "proton_dist = naima.models.ExponentialCutoffPowerLaw(1e36/u.eV, e_0=1*u.TeV, alpha=2.1, e_cutoff=100*u.TeV)\n",
    "PP = naima.models.PionDecay(proton_dist, nh=0.1*u.cm**-3)\n",
    "\n",
    "photon_energy = np.logspace(-2, 6, 100) * u.GeV\n",
    "plt.loglog(photon_energy, PP.sed(photon_energy))\n",
    "\n",
    "#plot label stuff\n",
    "plt.xlabel('Photon energy [GeV]')\n",
    "plt.ylabel('$E^2 dN/dE$ [erg s$^{-1}$ cm$^{-2}$]')\n",
    "plt.ylim(bottom=1e-14)"
   ]
  },
  {
   "cell_type": "markdown",
   "metadata": {},
   "source": [
    "# Interactive widget demo\n",
    "\n",
    "You will need to install ipywidgets for this to work"
   ]
  },
  {
   "cell_type": "code",
   "execution_count": null,
   "metadata": {
    "collapsed": false
   },
   "outputs": [],
   "source": [
    "ECPL = naima.models.ExponentialCutoffPowerLaw(amplitude=1e36/u.eV, e_0=1*u.TeV, alpha=2.5,\n",
    "                                                    e_cutoff=50*u.TeV, beta=2)\n",
    "\n",
    "IC = naima.models.InverseCompton(ECPL, seed_photon_fields=['CMB', ['FIR', 90*u.K, 0.415*u.eV/u.cm**3]])\n",
    "#IC.nEed /=10\n",
    "SY = naima.models.Synchrotron(ECPL, B=10*u.uG)\n",
    "photon_energy = np.logspace(-5, 15, 100)*u.eV\n",
    "\n",
    "from ipywidgets import interact\n",
    "from IPython.display import display\n",
    "\n",
    "@interact(logA=(33.,39.,0.2), alpha=(1.,4.,0.1), log_e_cutoff=(-1,3,0.2), u_FIR=(0.1,5.,0.1),  T_FIR=(10,300,10), logB=(-1,2,0.1))\n",
    "def model(logA=36, alpha=2.5, log_e_cutoff=1.8, u_FIR=0.4, T_FIR=90, logB=1):\n",
    "    ECPL.amplitude = 10**logA /u.eV\n",
    "    ECPL.alpha = alpha\n",
    "    ECPL.e_cutoff = 10**log_e_cutoff * u.TeV\n",
    "    IC.seed_photon_fields['FIR']['u'] = u_FIR * u.eV/u.cm**3\n",
    "    IC.seed_photon_fields['FIR']['T'] = T_FIR * u.K\n",
    "    SY.B = 10**logB*u.uG\n",
    "    \n",
    "    f,ax = plt.subplots(1)\n",
    "    ax.loglog(photon_energy, SY.sed(photon_energy))\n",
    "    ax.loglog(photon_energy, IC.sed(photon_energy))\n",
    "    ax.loglog(photon_energy, IC.sed(photon_energy, seed='CMB'), lw=1, ls='--')\n",
    "    ax.loglog(photon_energy, IC.sed(photon_energy, seed='FIR'), lw=1, ls='--')\n",
    "    plt.axvspan(1e2,1e4, fc='0.5', alpha=0.25, lw=0)\n",
    "    plt.axvspan(1e8,1e10, fc='r', alpha=0.25, lw=0)\n",
    "    plt.axvspan(1e11,1e13, fc='b', alpha=0.25, lw=0)\n",
    "    ax.set_ylim(bottom=1e-13)\n",
    "    ax.set_xlabel('Photon energy [eV]')\n",
    "    ax.set_ylabel('$E^2 dN/dE$ [erg s$^{-1}$ cm$^{-2}$]')\n",
    "    plt.show()\n",
    "    print('W_e(E_e>1 TeV) = {0:.3g}'.format(IC.compute_We(Eemin=1*u.TeV)))\n",
    "    print('E_c = {0:.3g}'.format(ECPL.e_cutoff))\n",
    "    print('B = {0:.3g}'.format(SY.B))\n",
    "    print('u_FIR = {0:.3g}'.format(IC.seed_photon_fields['FIR']['u']))\n",
    "    print('T_FIR = {0:.3g}'.format(IC.seed_photon_fields['FIR']['T']))\n",
    "\n"
   ]
  }
 ],
 "metadata": {
  "kernelspec": {
   "display_name": "Python 3",
   "language": "python",
   "name": "python3"
  },
  "language_info": {
   "codemirror_mode": {
    "name": "ipython",
    "version": 3
   },
   "file_extension": ".py",
   "mimetype": "text/x-python",
   "name": "python",
   "nbconvert_exporter": "python",
   "pygments_lexer": "ipython3",
   "version": "3.4.3"
  }
 },
 "nbformat": 4,
 "nbformat_minor": 0
}
