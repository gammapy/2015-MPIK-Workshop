{
 "cells": [
  {
   "cell_type": "markdown",
   "metadata": {},
   "source": [
    "# gappa tutorial\n",
    "In this tutorial you will learn step-by-step to use gappa in order to\n",
    " * calculate an SED from a particle distribution\n",
    " * perform a particle evolution in the presence of energy losses\n",
    " * calculate some galactic gas densities\n",
    " * tinker with the galactic spiral arm structure\n",
    " * dice some random galactic pulsar positions"
   ]
  },
  {
   "cell_type": "markdown",
   "metadata": {},
   "source": [
    "1. Get the SED from a particle distribution\n",
    "-------------------------------------------\n",
    "create a 2D numpy array representing an electron and a \n",
    "proton SED.  \n",
    "The shape is your choice, but the normalisation\n",
    "should be 10^50erg  \n",
    "in protons and 10^47erg in electrons!"
   ]
  },
  {
   "cell_type": "code",
   "execution_count": null,
   "metadata": {
    "collapsed": true
   },
   "outputs": [],
   "source": [
    "%matplotlib inline\n",
    "import gappa as gp\n",
    "import numpy as np\n",
    "import matplotlib.pyplot as plt\n",
    "from matplotlib.colors import LogNorm"
   ]
  },
  {
   "cell_type": "markdown",
   "metadata": {},
   "source": [
    "Get an energy axis:"
   ]
  },
  {
   "cell_type": "code",
   "execution_count": null,
   "metadata": {
    "collapsed": false
   },
   "outputs": [],
   "source": [
    "# note: all input energies are in erg!\n",
    "emin = 1e-3 * gp.TeV_to_erg\n",
    "emax = 1e4 * gp.TeV_to_erg\n",
    "e = np.logspace(np.log10(emin),np.log10(emax),100)"
   ]
  },
  {
   "cell_type": "markdown",
   "metadata": {},
   "source": [
    "Make your spectral assumption:"
   ]
  },
  {
   "cell_type": "code",
   "execution_count": null,
   "metadata": {
    "collapsed": false
   },
   "outputs": [],
   "source": [
    "# my choice is a power-law for the electrons\n",
    "# and protons with spectral index 'spind' and \n",
    "# exp.cut-off at 'ecute'(electrons) and 'ecutp'(protons)\n",
    "# plus a oscillation for the protons\n",
    "spind = 2.1\n",
    "ecute = 1e2 * gp.TeV_to_erg\n",
    "ecutp = 1e3 * gp.TeV_to_erg\n",
    "\n",
    "# energy in particles\n",
    "we = 1e47\n",
    "wp = 1e50\n",
    "\n",
    "nel = e**(-spind) * np.exp(-e/ecute)\n",
    "npr = e**(-spind) * np.exp(-e/ecutp) * (1 + np.sin(5*np.log10(e)))"
   ]
  },
  {
   "cell_type": "markdown",
   "metadata": {},
   "source": [
    "Roughly normalise with numpy:"
   ]
  },
  {
   "cell_type": "code",
   "execution_count": null,
   "metadata": {
    "collapsed": true
   },
   "outputs": [],
   "source": [
    "nel *= we/np.sum((e * nel)[1:]* np.diff(e))\n",
    "npr *= wp/np.sum((e * npr)[1:]* np.diff(e))"
   ]
  },
  {
   "cell_type": "markdown",
   "metadata": {},
   "source": [
    "And the result looks like this:"
   ]
  },
  {
   "cell_type": "code",
   "execution_count": null,
   "metadata": {
    "collapsed": false,
    "scrolled": true
   },
   "outputs": [],
   "source": [
    "plt.loglog(e,e*e*npr,c=\"red\")\n",
    "plt.loglog(e,e*e*nel,c=\"blue\")\n",
    "plt.ylim(1.e38,1.e54)"
   ]
  },
  {
   "cell_type": "markdown",
   "metadata": {
    "collapsed": true
   },
   "source": [
    "Initialise a gappa Radiation object and set these spectra:"
   ]
  },
  {
   "cell_type": "code",
   "execution_count": null,
   "metadata": {
    "collapsed": true
   },
   "outputs": [],
   "source": [
    "rad = gp.Radiation()\n",
    "# gappa takes 2D arrays as input\n",
    "rad.SetElectrons(zip(e,nel))\n",
    "rad.SetProtons(zip(e,npr))"
   ]
  },
  {
   "cell_type": "markdown",
   "metadata": {},
   "source": [
    "Now set some parameters:"
   ]
  },
  {
   "cell_type": "code",
   "execution_count": null,
   "metadata": {
    "collapsed": true
   },
   "outputs": [],
   "source": [
    "# BField in Gauss\n",
    "rad.SetBField(1e-5)\n",
    "# Distance in pc\n",
    "rad.SetDistance(1e3)\n",
    "# Ambient density in cm^-3\n",
    "rad.SetAmbientDensity(1.)"
   ]
  },
  {
   "cell_type": "markdown",
   "metadata": {},
   "source": [
    "In order to set radiation fields, you can either\n",
    " * add a greybody\n",
    " * set a custom spectrum"
   ]
  },
  {
   "cell_type": "code",
   "execution_count": null,
   "metadata": {
    "collapsed": false
   },
   "outputs": [],
   "source": [
    "# again, energies are always in erg!\n",
    "rad.AddThermalTargetPhotons(2.7,0.25*gp.eV_to_erg) #CMB\n",
    "rad.AddThermalTargetPhotons(50.,0.5*gp.eV_to_erg) #some FIR field\n",
    "targ = np.array(rad.GetTargetPhotons())\n",
    "plt.loglog(targ[:,0],targ[:,1])\n",
    "plt.ylim(1e13,1e19)"
   ]
  },
  {
   "cell_type": "markdown",
   "metadata": {
    "collapsed": true
   },
   "source": [
    "Add a crazy radiation field:"
   ]
  },
  {
   "cell_type": "code",
   "execution_count": null,
   "metadata": {
    "collapsed": false,
    "scrolled": true
   },
   "outputs": [],
   "source": [
    "et = np.logspace(-20,-13,100)\n",
    "nt = 1.e16*(1.+10.*np.sin(10.*np.log10(et))/np.log10(et))\n",
    "rad.AddArbitraryTargetPhotons(zip(et,nt))\n",
    "targ = np.array(rad.GetTargetPhotons())"
   ]
  },
  {
   "cell_type": "code",
   "execution_count": null,
   "metadata": {
    "collapsed": false
   },
   "outputs": [],
   "source": [
    "plt.loglog(targ[:,0],targ[:,1])\n",
    "plt.ylim(1e13,1e19)"
   ]
  },
  {
   "cell_type": "markdown",
   "metadata": {},
   "source": [
    "Finally, calculate and retrieve the SEDs:"
   ]
  },
  {
   "cell_type": "code",
   "execution_count": null,
   "metadata": {
    "collapsed": true
   },
   "outputs": [],
   "source": [
    "rad.CalculateDifferentialPhotonSpectrum()\n",
    "\n",
    "to = np.array(rad.GetTotalSED())\n",
    "pp = np.array(rad.GetPPSED())\n",
    "ic = np.array(rad.GetICSED())\n",
    "br = np.array(rad.GetBremsstrahlungSED())\n",
    "sy = np.array(rad.GetSynchrotronSED())"
   ]
  },
  {
   "cell_type": "code",
   "execution_count": null,
   "metadata": {
    "collapsed": false
   },
   "outputs": [],
   "source": [
    "plt.loglog(to[:,0],to[:,1],c=\"black\")\n",
    "plt.loglog(pp[:,0],pp[:,1],c=\"green\")\n",
    "plt.loglog(sy[:,0],sy[:,1],c=\"blue\")\n",
    "plt.loglog(br[:,0],br[:,1],c=\"red\")\n",
    "plt.loglog(ic[:,0],ic[:,1],c=\"orange\")\n",
    "plt.ylim(1e-14,1e-9)"
   ]
  },
  {
   "cell_type": "markdown",
   "metadata": {},
   "source": [
    "Thumbs Up!\n",
    "\n",
    "2. Do a particle evolution\n",
    "--------------------------\n",
    "Steps:\n",
    " * Set source age\n",
    " * set luminosity evolution\n",
    " * set B-field evolution\n",
    " * set ambient density\n",
    " * set lookup for IC losses\n",
    " \n",
    "Set age and make a time axis:"
   ]
  },
  {
   "cell_type": "code",
   "execution_count": null,
   "metadata": {
    "collapsed": true
   },
   "outputs": [],
   "source": [
    "# note: all times are in years\n",
    "age = 1e3\n",
    "tmin = 1e1\n",
    "tmax = age * 1e6 # this has to be high!\n",
    "t = np.logspace(np.log10(tmin),np.log10(tmax),200)"
   ]
  },
  {
   "cell_type": "markdown",
   "metadata": {},
   "source": [
    "Now define luminosity and B-field evolution.  \n",
    "NOTE: If you have time-dependent losses, the speed of the  \n",
    "calculation is determined by the strength of the losses.  \n",
    "The higher the losses (e.g. very high B-field), the slower."
   ]
  },
  {
   "cell_type": "code",
   "execution_count": null,
   "metadata": {
    "collapsed": false
   },
   "outputs": [],
   "source": [
    "bt = 1e-3 / np.sqrt(t)\n",
    "lumt = 1e38/(1. + t/500.)**2"
   ]
  },
  {
   "cell_type": "code",
   "execution_count": null,
   "metadata": {
    "collapsed": false
   },
   "outputs": [],
   "source": [
    "plt.plot(t,bt)\n",
    "plt.xlim(0.,1000.)"
   ]
  },
  {
   "cell_type": "code",
   "execution_count": null,
   "metadata": {
    "collapsed": false
   },
   "outputs": [],
   "source": [
    "plt.plot(t,lumt)\n",
    "plt.xlim(0.,1000.)"
   ]
  },
  {
   "cell_type": "markdown",
   "metadata": {},
   "source": [
    "Create a 'Particle' object and set these evolutions"
   ]
  },
  {
   "cell_type": "code",
   "execution_count": null,
   "metadata": {
    "collapsed": false
   },
   "outputs": [],
   "source": [
    "par = gp.Particles()\n",
    "par.SetAge(age)\n",
    "par.SetBFieldLookup(zip(t,bt))\n",
    "par.SetLuminosityLookup(zip(t,lumt))\n",
    "par.SetAmbientDensity(2.)"
   ]
  },
  {
   "cell_type": "markdown",
   "metadata": {},
   "source": [
    "For IC losses, a lookup has to be created.  \n",
    "This is done with the 'Radiation' object.  \n",
    "Let's just use the previously defined radiation field."
   ]
  },
  {
   "cell_type": "code",
   "execution_count": null,
   "metadata": {
    "collapsed": true
   },
   "outputs": [],
   "source": [
    "rad.CreateICLossLookup()\n",
    "icl = np.array(rad.GetICLossLookup())"
   ]
  },
  {
   "cell_type": "code",
   "execution_count": null,
   "metadata": {
    "collapsed": false,
    "scrolled": true
   },
   "outputs": [],
   "source": [
    "plt.loglog(icl[:,0],icl[:,1],c=\"black\")"
   ]
  },
  {
   "cell_type": "code",
   "execution_count": null,
   "metadata": {
    "collapsed": true
   },
   "outputs": [],
   "source": [
    "par.SetICLossLookup(icl)"
   ]
  },
  {
   "cell_type": "markdown",
   "metadata": {},
   "source": [
    "The only thing missing is the shape of the injection spectrum.  \n",
    "Let's assume our source is injecting a broken power law:"
   ]
  },
  {
   "cell_type": "code",
   "execution_count": null,
   "metadata": {
    "collapsed": false
   },
   "outputs": [],
   "source": [
    "par.SetLowSpectralIndex(1.5)\n",
    "par.SetSpectralIndex(2.5)\n",
    "par.SetBreakEnergy(0.1*gp.TeV_to_erg)\n",
    "par.SetEmax(5e2)"
   ]
  },
  {
   "cell_type": "markdown",
   "metadata": {},
   "source": [
    "Now we can do the evolution calculation!"
   ]
  },
  {
   "cell_type": "code",
   "execution_count": null,
   "metadata": {
    "collapsed": true
   },
   "outputs": [],
   "source": [
    "par.CalculateParticleSpectrum(\"electrons\")\n",
    "el = np.array(par.GetParticleSED())"
   ]
  },
  {
   "cell_type": "code",
   "execution_count": null,
   "metadata": {
    "collapsed": false
   },
   "outputs": [],
   "source": [
    "plt.loglog(el[:,0],el[:,1],c=\"black\")\n",
    "plt.ylim(1e41,1e48)\n",
    "\n",
    "par.SetAge(.1*age)\n",
    "par.CalculateParticleSpectrum(\"electrons\")\n",
    "el2 = np.array(par.GetParticleSED())\n",
    "plt.loglog(el2[:,0],el2[:,1],c=\"red\")\n",
    "\n",
    "par.SetAge(10.*age)\n",
    "par.CalculateParticleSpectrum(\"electrons\")\n",
    "el3 = np.array(par.GetParticleSED())\n",
    "plt.loglog(el3[:,0],el3[:,1],c=\"blue\")\n",
    "\n",
    "par.SetAge(100.*age)\n",
    "par.CalculateParticleSpectrum(\"electrons\")\n",
    "el4 = np.array(par.GetParticleSED())\n",
    "plt.loglog(el4[:,0],el4[:,1],c=\"orange\")"
   ]
  },
  {
   "cell_type": "markdown",
   "metadata": {
    "collapsed": true
   },
   "source": [
    "Now let's calculate the radiation spectrum.  \n",
    "Here, we set the parameters of the radiation object that  \n",
    "corresponds to the what's in the 'Particle' object at t=age"
   ]
  },
  {
   "cell_type": "code",
   "execution_count": null,
   "metadata": {
    "collapsed": false
   },
   "outputs": [],
   "source": [
    "rad.SetBField(par.GetBField())\n",
    "rad.SetAmbientDensity(par.GetAmbientDensity())\n",
    "rad.SetElectrons(par.GetParticleSpectrum())\n",
    "print par.GetBField()\n",
    "rad.CalculateDifferentialPhotonSpectrum()\n",
    "to = np.array(rad.GetTotalSED())\n",
    "pp = np.array(rad.GetPPSED())\n",
    "ic = np.array(rad.GetICSED())\n",
    "br = np.array(rad.GetBremsstrahlungSED())\n",
    "sy = np.array(rad.GetSynchrotronSED())"
   ]
  },
  {
   "cell_type": "markdown",
   "metadata": {},
   "source": [
    "And plot it:"
   ]
  },
  {
   "cell_type": "code",
   "execution_count": null,
   "metadata": {
    "collapsed": false
   },
   "outputs": [],
   "source": [
    "#plt.loglog(to[:,0],to[:,1],c=\"black\")\n",
    "plt.loglog(sy[:,0],sy[:,1],c=\"blue\")\n",
    "plt.loglog(br[:,0],br[:,1],c=\"red\")\n",
    "plt.loglog(ic[:,0],ic[:,1],c=\"orange\")\n",
    "plt.ylim(1e-16,1e-9)"
   ]
  },
  {
   "cell_type": "markdown",
   "metadata": {
    "collapsed": true
   },
   "source": [
    "\n",
    "3. Dice some galactic distributions\n",
    "-----------------------------------\n",
    "Now let's try to dice some galactic distributions!\n",
    "\n",
    "First lets dice some x-y coordinates in the galactic disk:"
   ]
  },
  {
   "cell_type": "code",
   "execution_count": null,
   "metadata": {
    "collapsed": false
   },
   "outputs": [],
   "source": [
    "bb = 20000\n",
    "xx = 20*np.random.random(bb)-10\n",
    "yy = 20*np.random.random(bb)-5"
   ]
  },
  {
   "cell_type": "markdown",
   "metadata": {},
   "source": [
    "Initialise an 'Astro' object:"
   ]
  },
  {
   "cell_type": "code",
   "execution_count": null,
   "metadata": {
    "collapsed": true
   },
   "outputs": [],
   "source": [
    "ao = gp.Astro()"
   ]
  },
  {
   "cell_type": "markdown",
   "metadata": {},
   "source": [
    "Function that gets hydrogen densities at (x,y,0) coordinates,  \n",
    "either from the original model by Ferriere 2001 and modulated  \n",
    "with spiral arms:"
   ]
  },
  {
   "cell_type": "code",
   "execution_count": null,
   "metadata": {
    "collapsed": false
   },
   "outputs": [],
   "source": [
    "def get_densities(xx,yy):\n",
    "    nn = []\n",
    "    nnmod = []\n",
    "    for i in xrange(len(xx)):\n",
    "        n = ao.HIDensity(xx[i],yy[i],0.)+ao.H2Density(xx[i],yy[i],0.)\n",
    "        nn.append(n)\n",
    "        nm = ao.ModulateGasDensityWithSpirals(n,xx[i],yy[i],0.)\n",
    "        nnmod.append(nm)\n",
    "    return nn,nnmod"
   ]
  },
  {
   "cell_type": "code",
   "execution_count": null,
   "metadata": {
    "collapsed": false
   },
   "outputs": [],
   "source": [
    "nn,nnmod = get_densities(xx,yy)"
   ]
  },
  {
   "cell_type": "markdown",
   "metadata": {},
   "source": [
    "Plot the unmodulated and modulated densities:"
   ]
  },
  {
   "cell_type": "code",
   "execution_count": null,
   "metadata": {
    "collapsed": false
   },
   "outputs": [],
   "source": [
    "plt.hist2d(xx,yy,weights=nn,normed=False,bins=(50,50),cmap=plt.cm.copper_r,alpha=1.,norm=LogNorm())\n",
    "cb = plt.colorbar()"
   ]
  },
  {
   "cell_type": "code",
   "execution_count": null,
   "metadata": {
    "collapsed": false
   },
   "outputs": [],
   "source": [
    "plt.hist2d(xx,yy,weights=nnmod,normed=False,bins=(50,50),cmap=plt.cm.copper_r,alpha=1.,norm=LogNorm())\n",
    "cb = plt.colorbar()"
   ]
  },
  {
   "cell_type": "markdown",
   "metadata": {},
   "source": [
    "Disable an arm, change the arm model, change the arms width:"
   ]
  },
  {
   "cell_type": "code",
   "execution_count": null,
   "metadata": {
    "collapsed": false
   },
   "outputs": [],
   "source": [
    "ao.DisableArm(1)\n",
    "dummy,nnmodnoarm = get_densities(xx,yy)\n",
    "ao.EnableArm(4)\n",
    "\n",
    "ao.SetSpiralArmModel(\"TaylorCordes\")\n",
    "dummy,nnmodtc = get_densities(xx,yy)\n",
    "\n",
    "ao.SetArmWidth(0.2)\n",
    "dummy,nnmodthin = get_densities(xx,yy)\n"
   ]
  },
  {
   "cell_type": "code",
   "execution_count": null,
   "metadata": {
    "collapsed": false
   },
   "outputs": [],
   "source": [
    "plt.hist2d(xx,yy,weights=nnmodnoarm,normed=False,bins=(50,50),cmap=plt.cm.copper_r,alpha=1.,norm=LogNorm())\n",
    "cb = plt.colorbar()"
   ]
  },
  {
   "cell_type": "code",
   "execution_count": null,
   "metadata": {
    "collapsed": false
   },
   "outputs": [],
   "source": [
    "plt.hist2d(xx,yy,weights=nnmodtc,normed=False,bins=(50,50),cmap=plt.cm.copper_r,alpha=1.,norm=LogNorm())\n",
    "cb = plt.colorbar()"
   ]
  },
  {
   "cell_type": "code",
   "execution_count": null,
   "metadata": {
    "collapsed": false
   },
   "outputs": [],
   "source": [
    "plt.hist2d(xx,yy,weights=nnmodthin,normed=False,bins=(50,50),cmap=plt.cm.copper_r,alpha=1.,norm=LogNorm())\n",
    "cb = plt.colorbar()"
   ]
  },
  {
   "cell_type": "markdown",
   "metadata": {},
   "source": [
    "Now get some random positions in the galaxy that follows  \n",
    "the Case&Bhattacharya surface density model:"
   ]
  },
  {
   "cell_type": "code",
   "execution_count": null,
   "metadata": {
    "collapsed": false
   },
   "outputs": [],
   "source": [
    "ao.SetSpiralArmModel(\"Vallee\")\n",
    "pos = np.array(ao.DiceGalacticPositions(100))\n",
    "plt.hist2d(xx,yy,weights=nnmod,normed=False,bins=(50,50),cmap=plt.cm.copper_r,alpha=1.,norm=LogNorm())\n",
    "cb = plt.colorbar()\n",
    "plt.scatter(pos[:,0],pos[:,1],c=\"white\")"
   ]
  }
 ],
 "metadata": {
  "kernelspec": {
   "display_name": "Python 2",
   "language": "python",
   "name": "python2"
  },
  "language_info": {
   "codemirror_mode": {
    "name": "ipython",
    "version": 2
   },
   "file_extension": ".py",
   "mimetype": "text/x-python",
   "name": "python",
   "nbconvert_exporter": "python",
   "pygments_lexer": "ipython2",
   "version": "2.7.10"
  }
 },
 "nbformat": 4,
 "nbformat_minor": 0
}
