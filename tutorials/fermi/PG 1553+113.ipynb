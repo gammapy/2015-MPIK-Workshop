{
 "cells": [
  {
   "cell_type": "markdown",
   "metadata": {},
   "source": [
    "# Likelihood Analysis with fermipy"
   ]
  },
  {
   "cell_type": "markdown",
   "metadata": {},
   "source": [
    "The python likelihood tools are a very powerful set of analysis tools that expand upon the command line tools provided with the Fermi Science Tools package. Not only can you perform all of the same likelihood analysis with the python tools that you can with the standard command line tools but you can directly access all of the model parameters. You can more easily script a standard analysis. There are also a few things built into the python tools that are not available from the command line like the calculation of upper limits.\n",
    "\n",
    "There are many user contributed packages built upon the python backbone of the Science Tools and this thread will highlight the use of the [fermipy](http://fermipy.readthedocs.org) package.\n",
    "\n",
    "\n",
    "This sample analysis is based on the PG 1553+113 analysis performed by the LAT team and described in [Abdo, A. A. et al. 2010, ApJ, 708, 1310](http://adsabs.harvard.edu/abs/2010ApJ...708.1310A). This tutorial assumes you have the most recent ScienceTools installed and [fermipy](http://fermipy.readthedocs.org) installed on top of it. We will also make significant use of python, so you might want to familiarize yourself with python including matplotlib and other libraries (there's a beginner's guide at http://wiki.python.org/moin/BeginnersGuide). This tutorial also assumes that you've gone through the non-python based unbinned likelihood thread. "
   ]
  },
  {
   "cell_type": "markdown",
   "metadata": {},
   "source": [
    "## Get the Data"
   ]
  },
  {
   "cell_type": "markdown",
   "metadata": {},
   "source": [
    "For this thread the original data were extracted from the [LAT data server](http://fermi.gsfc.nasa.gov/cgi-bin/ssc/LAT/LATDataQuery.cgi) with the following selections (these selections are similar to those in the paper):\n",
    "\n",
    "* Search Center (RA,Dec) = (238.929,11.1901)\n",
    "* Radius = 30 degrees\n",
    "* Start Time (MET) = 239557417 seconds (2008-08-04T15:43:37)\n",
    "* Stop Time (MET) = 256970880 seconds (2009-02-22T04:48:00)\n",
    "* Minimum Energy = 100 MeV\n",
    "* Maximum Energy = 300000 MeV\n",
    "\n",
    "Once you exectute the query you can download the data and put it in your working directory.  You'll need to change the names of the files to match the filenames that the data server gave you.  Alternatively you can run with the following tarball which already contains the downloaded files as well as all of the ancillary files that will be generated for the analysis.  In this example the output of the analysis will go into a subdirectory called *pg1553*."
   ]
  },
  {
   "cell_type": "code",
   "execution_count": 1,
   "metadata": {
    "collapsed": false
   },
   "outputs": [
    {
     "name": "stdout",
     "output_type": "stream",
     "text": [
      "File ‘pg1553.tar.gz’ already there; not retrieving.\r\n",
      "\r\n"
     ]
    }
   ],
   "source": [
    "!wget -nc http://www.slac.stanford.edu/~mdwood/fermipy/pg1553.tar.gz\n",
    "# Alternate download link\n",
    "# wget -nc https://www.dropbox.com/s/heeft4xx0ibfk8c/pg1553.tar.gz\n",
    "!tar xzf pg1553.tar.gz"
   ]
  },
  {
   "cell_type": "markdown",
   "metadata": {},
   "source": [
    "### Make a file list\n",
    "\n",
    "You'll then need to make a file list with the names of your input event files. You can either just make one with a text editor or do the following from the command line."
   ]
  },
  {
   "cell_type": "code",
   "execution_count": 2,
   "metadata": {
    "collapsed": false
   },
   "outputs": [],
   "source": [
    "!ls -1 pg1553/*PH*.fits > pg1553/PG1553.lst"
   ]
  },
  {
   "cell_type": "markdown",
   "metadata": {},
   "source": [
    "## Make a config file\n",
    "\n",
    "fermipy bases its analysis on a configuration file (in [yaml](http://yaml.org) format).  We're just going to use a really simple config file for a standard analysis.  There are many many more options which you can use or you can modify these options after the fact within the analysis chain.\n",
    "\n",
    "\n",
    "Make a config file named 'config.yaml' like the following.  For more details on the config file see [config.html](http://fermipy.readthedocs.org/en/latest/config.html).  You will probably need to customize this a bit since your files might not be in the same place or named the same.  The galactic and isotropic diffuse will need to be located on your system (they are included in the science tools or can be downloaded from the FSSC).  In the following example we set the path to these files with the environment variable FERMI_DIFFUSE_DIR.  If FERMI_DIFFUSE_DIR is not defined fermipy will look for the location of these files within the FSSC STs distribution. "
   ]
  },
  {
   "cell_type": "raw",
   "metadata": {},
   "source": [
    "data:\n",
    "  evfile : PG1553.lst\n",
    "  scfile : L1511031432171D651E7F63_SC00.fits\n",
    "\n",
    "binning:\n",
    "  roiwidth   : 10.0\n",
    "  binsz      : 0.1\n",
    "  binsperdec : 8\n",
    "\n",
    "selection :\n",
    "  emin : 100\n",
    "  emax : 300000\n",
    "  zmax    : 90\n",
    "  evclass : 128\n",
    "  evtype  : 3\n",
    "  target : '3FGL J1555.7+1111'\n",
    "\n",
    "gtlike:\n",
    "  edisp : True\n",
    "  irfs : 'P8R2_SOURCE_V6'\n",
    "  edisp_disable : ['isodiff','galdiff']\n",
    "\n",
    "model:\n",
    "  src_roiwidth : 15.0\n",
    "  galdiff  : '$FERMI_DIFFUSE_DIR/gll_iem_v06.fits'\n",
    "  isodiff  : '$FERMI_DIFFUSE_DIR/iso_P8R2_SOURCE_V6_v06.txt'\n",
    "  catalogs :\n",
    "    - '3FGL'"
   ]
  },
  {
   "cell_type": "markdown",
   "metadata": {},
   "source": [
    "## Start the analysis\n",
    "\n",
    "Next, you create an analysis script and run the setup steps which include running the selections and generating exposure maps etc.  This will take a bit.\n",
    "\n",
    "This is where the magic happens.  fermipy will load the point source model, create your xml file for you, decide on all the appropriate cuts and binnings and just go.  All of this is configurable from python or from the config file.  And, if you need to rerun things, it's smart enough to not overwrite files if it doesn't need to."
   ]
  },
  {
   "cell_type": "markdown",
   "metadata": {},
   "source": [
    "### Load up some useful modules"
   ]
  },
  {
   "cell_type": "code",
   "execution_count": 3,
   "metadata": {
    "collapsed": true
   },
   "outputs": [],
   "source": [
    "%matplotlib inline\n",
    "import matplotlib.pyplot as plt\n",
    "import numpy as np"
   ]
  },
  {
   "cell_type": "markdown",
   "metadata": {},
   "source": [
    "### Import the GTAnalysis module from fermipy\n",
    "\n",
    "You start by importing the module and then creating an instance of the analysis object from our config file.  When instantiating the analysis object we can override any options defined in the configuration file by passing keyword arguments to the object constructor.  Here we explicitly set the verbosity parameter to 3 (INFO) which supresses DEBUG output.  When we create the object, it spits out a bunch of information about all of the parameters that were used.  You can see there are many more options than the ones we chose."
   ]
  },
  {
   "cell_type": "code",
   "execution_count": 4,
   "metadata": {
    "collapsed": false
   },
   "outputs": [
    {
     "name": "stdout",
     "output_type": "stream",
     "text": [
      "Plotter is MatPlotlib\n"
     ]
    },
    {
     "name": "stderr",
     "output_type": "stream",
     "text": [
      "/Users/mdwood/src/ScienceTools/x86_64-apple-darwin14.3.0/lib/python2.7/site-packages/IPython/kernel/__init__.py:13: ShimWarning: The `IPython.kernel` package has been deprecated. You should import from ipykernel or jupyter_client instead.\n",
      "  \"You should import from ipykernel or jupyter_client instead.\", ShimWarning)\n"
     ]
    }
   ],
   "source": [
    "from fermipy.gtanalysis import GTAnalysis"
   ]
  },
  {
   "cell_type": "code",
   "execution_count": 5,
   "metadata": {
    "collapsed": false,
    "scrolled": true
   },
   "outputs": [
    {
     "name": "stderr",
     "output_type": "stream",
     "text": [
      "2015-11-18 08:16:57 - GTAnalysis - INFO - \n",
      "--------------------------------------------------------------------------------\n",
      "This is fermipy version 0.5.1-1-g2a45-dirty.\n",
      "2015-11-18 08:16:57 - GTAnalysis - INFO - Configuration:\n",
      "binning:\n",
      "  binsperdec: 8\n",
      "  binsz: 0.1\n",
      "  coordsys: CEL\n",
      "  enumbins: null\n",
      "  npix: null\n",
      "  proj: AIT\n",
      "  roiwidth: 10.0\n",
      "components: []\n",
      "data:\n",
      "  evfile: PG1553.lst\n",
      "  ltcube: null\n",
      "  scfile: L1511031432171D651E7F63_SC00.fits\n",
      "extension:\n",
      "  fix_background: false\n",
      "  save_model_map: false\n",
      "  save_templates: false\n",
      "  spatial_model: GaussianSource\n",
      "  width: null\n",
      "  width_max: 1.0\n",
      "  width_min: 0.01\n",
      "  width_nstep: 21\n",
      "fileio:\n",
      "  logfile: /Users/mdwood/fermi/fermipy/notebooks/pg1553/fermipy\n",
      "  outdir: /Users/mdwood/fermi/fermipy/notebooks/pg1553\n",
      "  savefits: true\n",
      "  scratchdir: /scratch\n",
      "  usescratch: false\n",
      "  workdir: null\n",
      "gtlike:\n",
      "  bexpmap: null\n",
      "  convolve: true\n",
      "  edisp: true\n",
      "  edisp_disable:\n",
      "  - isodiff\n",
      "  - galdiff\n",
      "  irfs: P8R2_SOURCE_V6\n",
      "  likelihood: binned\n",
      "  minbinsz: 0.05\n",
      "  resample: true\n",
      "  rfactor: 2\n",
      "  srcmap: null\n",
      "localize:\n",
      "  dtheta_max: 0.05\n",
      "  nstep: 10\n",
      "  update: false\n",
      "logging:\n",
      "  chatter: 3\n",
      "  verbosity: 3\n",
      "mc: {}\n",
      "model:\n",
      "  catalogs:\n",
      "  - 3FGL\n",
      "  diffuse: []\n",
      "  extdir: Extended_archive_v15\n",
      "  galdiff:\n",
      "  - $FERMI_DIFFUSE_DIR/gll_iem_v06.fits\n",
      "  isodiff:\n",
      "  - $FERMI_DIFFUSE_DIR/iso_P8R2_SOURCE_V6_v06.txt\n",
      "  limbdiff: []\n",
      "  min_flux: null\n",
      "  min_ts: null\n",
      "  remove_duplicates: false\n",
      "  sources: []\n",
      "  src_radius: null\n",
      "  src_roiwidth: 10.0\n",
      "optimizer:\n",
      "  min_fit_quality: 3\n",
      "  optimizer: MINUIT\n",
      "  retries: 3\n",
      "  tol: 0.0001\n",
      "  verbosity: 0\n",
      "plotting:\n",
      "  erange: []\n",
      "  format: png\n",
      "residmap:\n",
      "  models: []\n",
      "roiopt:\n",
      "  npred_frac: 0.95\n",
      "  npred_threshold: 1.0\n",
      "  shape_ts_threshold: 100.0\n",
      "run:\n",
      "  extension: []\n",
      "  sed: []\n",
      "sed:\n",
      "  bin_index: 2.0\n",
      "  use_local_index: false\n",
      "selection:\n",
      "  convtype: null\n",
      "  dec: null\n",
      "  emax: 300000.0\n",
      "  emin: 100.0\n",
      "  evclass: 128\n",
      "  evtype: 3\n",
      "  filter: null\n",
      "  glat: null\n",
      "  glon: null\n",
      "  ra: null\n",
      "  radius: null\n",
      "  roicut: 'no'\n",
      "  target: 3FGL J1555.7+1111\n",
      "  tmax: null\n",
      "  tmin: null\n",
      "  zmax: 90.0\n",
      "\n"
     ]
    }
   ],
   "source": [
    "gta = GTAnalysis('pg1553/config.yaml',logging={'verbosity': 3})"
   ]
  },
  {
   "cell_type": "markdown",
   "metadata": {},
   "source": [
    "### The setup routine\n",
    "\n",
    "This gets everything ready for the likelihood analysis including instantiating the pylikelihood object.  Note that fermipy will skip generating any ancillary files that already exist in the working directory.  In the sample tarball these files have already been produced in order to speed up this stage of the analysis.  If you want to see the behavior of fermipy when running from an empty working directory you can delete one or more of these files before running *setup*."
   ]
  },
  {
   "cell_type": "code",
   "execution_count": 6,
   "metadata": {
    "collapsed": false,
    "scrolled": false
   },
   "outputs": [
    {
     "name": "stderr",
     "output_type": "stream",
     "text": [
      "2015-11-18 08:17:03 - GTAnalysis - INFO - Running setup\n",
      "2015-11-18 08:17:03 - GTBinnedAnalysis - INFO - Running setup for Analysis Component: 00\n",
      "2015-11-18 08:17:09 - GTBinnedAnalysis - INFO - Finished setup for Analysis Component: 00\n",
      "2015-11-18 08:17:28 - GTAnalysis - INFO - Finished setup\n"
     ]
    }
   ],
   "source": [
    "gta.setup()"
   ]
  },
  {
   "cell_type": "markdown",
   "metadata": {},
   "source": [
    "Before proceeding with the analysis we'll have a quick look at the files that are produced by the setup function."
   ]
  },
  {
   "cell_type": "code",
   "execution_count": 7,
   "metadata": {
    "collapsed": false
   },
   "outputs": [
    {
     "name": "stdout",
     "output_type": "stream",
     "text": [
      "pg1553/L1511031432171D651E7F63_PH00.fits  pg1553/bexpmap_roi_00.fits                pg1553/ltcube_00.fits\r\n",
      "pg1553/L1511031432171D651E7F63_PH01.fits  pg1553/ccube.fits                         pg1553/mcube_fit0.fits\r\n",
      "pg1553/L1511031432171D651E7F63_SC00.fits  pg1553/ccube_00.fits                      pg1553/mcube_fit0_00.fits\r\n",
      "pg1553/bexpmap_00.fits                    pg1553/ft1_00.fits                        pg1553/srcmap_00.fits\r\n"
     ]
    }
   ],
   "source": [
    "ls pg1553/*fits"
   ]
  },
  {
   "cell_type": "markdown",
   "metadata": {},
   "source": [
    "Here is a brief explanation of the contents of each file and its role in the analysis:\n",
    "\n",
    "* **ft1_00.fits**: Event list.  This is generated by running gtselect and gtmktime on our input file list.\n",
    "* **bexpmap_00.fits**: All-sky binned exposure map.  This map is interpolated to create an exposure model when generating the srcmap file.\n",
    "* **bexpmap_roi_00.fits**: Binned exposure map for the ROI.  This file is only provided for visualization purposes in order to have an exposure map with the same binning as the data and model maps.\n",
    "* **ccube_00.fits**: Counts cube for the ROI.\n",
    "* **ltcube_00.fits**: Livetime cube.  This contains a map of the livetime for this observation over the whole sky as a function of incidence angle.\n",
    "* **srcmap_00.fits**: Source map cube.  This file contains maps for each of the components in the ROI after convolution with exposure and the PSF.  Note that energy dispersion is applied at run-time.\n",
    "\n",
    "Note that all of the files have a numerical suffix '00'.  This is the analysis component index.  In a multi-component analysis there would be instances of all of the above files for each analysis component.  The files with no component index are co-added maps that are provided for visualization purposes.\n",
    "\n",
    "To see example of one of these files we can open and plot the counts cube file.  This is a 3D cube that contains the distribution of events as a function of energy and two spatial coordinates.  In the example below we sum over the energy dimension of the cube to make a 2-D sky image."
   ]
  },
  {
   "cell_type": "code",
   "execution_count": 8,
   "metadata": {
    "collapsed": false
   },
   "outputs": [
    {
     "name": "stdout",
     "output_type": "stream",
     "text": [
      "Filename: pg1553/ccube.fits\n",
      "No.    Name         Type      Cards   Dimensions   Format\n",
      "0    PRIMARY     PrimaryHDU      24   (100, 100, 28)   float64   \n"
     ]
    },
    {
     "data": {
      "text/plain": [
       "<matplotlib.image.AxesImage at 0x10dc7dc10>"
      ]
     },
     "execution_count": 8,
     "metadata": {},
     "output_type": "execute_result"
    },
    {
     "data": {
      "image/png": "[encoded data removed]",
      "text/plain": [
       "<matplotlib.figure.Figure at 0x10c120fd0>"
      ]
     },
     "metadata": {},
     "output_type": "display_data"
    }
   ],
   "source": [
    "import astropy.io.fits as pyfits\n",
    "\n",
    "h = pyfits.open('pg1553/ccube.fits')\n",
    "h.info()\n",
    "counts = h[0].data\n",
    "counts.shape\n",
    "plt.figure()\n",
    "plt.imshow(np.sum(counts,axis=0),interpolation='nearest')"
   ]
  },
  {
   "cell_type": "markdown",
   "metadata": {},
   "source": [
    "We can now inspect the state of the ROI prior with the print_roi() method."
   ]
  },
  {
   "cell_type": "code",
   "execution_count": 9,
   "metadata": {
    "collapsed": false
   },
   "outputs": [
    {
     "name": "stdout",
     "output_type": "stream",
     "text": [
      "name                SpatialModel   SpectrumType     offset        ts       Npred\n",
      "--------------------------------------------------------------------------------\n",
      "3FGL J1555.7+1111   PointSource    LogParabola       0.000       nan       923.2\n",
      "3FGL J1553.5+1256   PointSource    LogParabola       1.833       nan       655.4\n",
      "3FGL J1603.7+1106   PointSource    PowerLaw          1.976       nan       122.7\n",
      "3FGL J1552.1+0852   PointSource    PowerLaw          2.482       nan        90.2\n",
      "3FGL J1608.6+1029   PointSource    PowerLaw          3.252       nan       531.6\n",
      "3FGL J1541.8+1105   PointSource    PowerLaw          3.411       nan       155.4\n",
      "3FGL J1546.0+0818   PointSource    PowerLaw          3.753       nan        38.6\n",
      "3FGL J1548.4+1455   PointSource    PowerLaw          4.134       nan       187.8\n",
      "3FGL J1541.6+1414   PointSource    PowerLaw          4.596       nan        34.4\n",
      "3FGL J1611.9+1404   PointSource    PowerLaw          4.888       nan        81.2\n",
      "3FGL J1540.8+1449   PointSource    PowerLaw          5.146       nan        73.9\n",
      "3FGL J1607.0+1551   PointSource    PowerLaw          5.417       nan       306.7\n",
      "isodiff             DiffuseSource  FileFunction      -----       nan     4966.03\n",
      "galdiff             DiffuseSource  PowerLaw          -----       nan     8299.13\n",
      "\n"
     ]
    }
   ],
   "source": [
    "gta.print_roi()"
   ]
  },
  {
   "cell_type": "markdown",
   "metadata": {},
   "source": [
    "Additional details about an individual source can be retrieved by printing the corresponding source object.  Here we use the bracket operator to return the properties of PG1553. "
   ]
  },
  {
   "cell_type": "code",
   "execution_count": 10,
   "metadata": {
    "collapsed": false
   },
   "outputs": [
    {
     "name": "stdout",
     "output_type": "stream",
     "text": [
      "Name           : 3FGL J1555.7+1111\n",
      "Associations   : ['3FGL J1555.7+1111', 'PG 1553+113', '1FHL J1555.7+1111', '2FGL J1555.7+1111']\n",
      "RA/DEC         :    238.936/    11.194\n",
      "GLON/GLAT      :     21.918/    43.960\n",
      "TS             : nan\n",
      "Npred          : 923.16\n",
      "SpatialModel   : PointSource\n",
      "SpectrumType   : LogParabola\n",
      "Spectral Parameters\n",
      "alpha          :      1.604 +/-        nan\n",
      "beta           :    0.03884 +/-        nan\n",
      "norm           :  4.825e-12 +/-        nan\n",
      "Eb             :       1491 +/-        nan\n"
     ]
    }
   ],
   "source": [
    "print(gta.roi['3FGL J1555.7+1111'])"
   ]
  },
  {
   "cell_type": "markdown",
   "metadata": {},
   "source": [
    "## Do the likelihood fitting\n",
    "\n",
    "Now that all of the ancillary files have been generated, we can move on to the actual fitting.  The first thing you should do is free some of the sources since all of the sources are initially fixed.  We'll just free those sources in the center region."
   ]
  },
  {
   "cell_type": "code",
   "execution_count": 11,
   "metadata": {
    "collapsed": false
   },
   "outputs": [],
   "source": [
    "# Free Normalization of all Sources within 3 deg of ROI center\n",
    "gta.free_sources(distance=3.0,pars='norm')\n",
    "\n",
    "# Free all parameters of isotropic and galactic diffuse components\n",
    "gta.free_source('galdiff')\n",
    "gta.free_source('isodiff')"
   ]
  },
  {
   "cell_type": "markdown",
   "metadata": {},
   "source": [
    "In this simple anlaysis we are leaving the spectral shapes of sources fixed but we're going to free the spectral shape of the source we care about.  "
   ]
  },
  {
   "cell_type": "code",
   "execution_count": 12,
   "metadata": {
    "collapsed": false
   },
   "outputs": [],
   "source": [
    "gta.free_source('3FGL J1555.7+1111')"
   ]
  },
  {
   "cell_type": "markdown",
   "metadata": {},
   "source": [
    "Now, actually do the fit.  The software does its best to get the fit to converge by running the fit several times."
   ]
  },
  {
   "cell_type": "code",
   "execution_count": 13,
   "metadata": {
    "collapsed": false
   },
   "outputs": [
    {
     "data": {
      "text/plain": [
       "3"
      ]
     },
     "execution_count": 13,
     "metadata": {},
     "output_type": "execute_result"
    }
   ],
   "source": [
    "gta.fit()"
   ]
  },
  {
   "cell_type": "markdown",
   "metadata": {},
   "source": [
    "We can inspect the results of the fit by printing the source object for PG1553."
   ]
  },
  {
   "cell_type": "code",
   "execution_count": 14,
   "metadata": {
    "collapsed": false
   },
   "outputs": [
    {
     "name": "stdout",
     "output_type": "stream",
     "text": [
      "Name           : 3FGL J1555.7+1111\n",
      "Associations   : ['3FGL J1555.7+1111', 'PG 1553+113', '1FHL J1555.7+1111', '2FGL J1555.7+1111']\n",
      "RA/DEC         :    238.936/    11.194\n",
      "GLON/GLAT      :     21.918/    43.960\n",
      "TS             : 3003.96\n",
      "Npred          : 1117.70\n",
      "SpatialModel   : PointSource\n",
      "SpectrumType   : LogParabola\n",
      "Spectral Parameters\n",
      "alpha          :      1.532 +/-    0.05066\n",
      "beta           :    0.04372 +/-    0.01761\n",
      "norm           :  6.117e-12 +/-  3.069e-13\n",
      "Eb             :       1491 +/-        nan\n"
     ]
    }
   ],
   "source": [
    "print(gta.roi['3FGL J1555.7+1111'])"
   ]
  },
  {
   "cell_type": "markdown",
   "metadata": {},
   "source": [
    "You can then save the state of the roi to a yaml (and npy) file for reference later.  The write_roi function does this.  The first argument is a string that will be prepended to the names of the output files generated by this method."
   ]
  },
  {
   "cell_type": "code",
   "execution_count": 15,
   "metadata": {
    "collapsed": false
   },
   "outputs": [
    {
     "name": "stderr",
     "output_type": "stream",
     "text": [
      "2015-11-18 08:18:17 - GTBinnedAnalysis - INFO - Writing /Users/mdwood/fermi/fermipy/notebooks/pg1553/fit0_00.xml...\n",
      "2015-11-18 08:18:17 - GTBinnedAnalysis - INFO - Generating model map for component 00.\n",
      "2015-11-18 08:18:22 - GTAnalysis - INFO - Writing /Users/mdwood/fermi/fermipy/notebooks/pg1553/fit0.yaml...\n",
      "2015-11-18 08:18:23 - GTAnalysis - INFO - Writing /Users/mdwood/fermi/fermipy/notebooks/pg1553/fit0.npy...\n",
      "WARNING: AstropyDeprecationWarning: The ascard function is deprecated and may be removed in a future version.\n",
      "        Use the `.cards` attribute instead. [pywcsgrid2.wcs_helper]\n",
      "WARNING:astropy:AstropyDeprecationWarning: The ascard function is deprecated and may be removed in a future version.\n",
      "        Use the `.cards` attribute instead.\n",
      "WARNING: AstropyDeprecationWarning: The CardList class has been deprecated; all its former functionality has been subsumed by the Header class, so CardList objects should not be directly created.  See the PyFITS 3.1.0 CHANGELOG for more details. [astropy.io.fits.card]\n",
      "WARNING:astropy:AstropyDeprecationWarning: The CardList class has been deprecated; all its former functionality has been subsumed by the Header class, so CardList objects should not be directly created.  See the PyFITS 3.1.0 CHANGELOG for more details.\n",
      "WARNING: AstropyDeprecationWarning: The key function is deprecated and may be removed in a future version.\n",
      "        Use the `.keyword` attribute instead. [pywcsgrid2.wcs_helper]\n",
      "WARNING:astropy:AstropyDeprecationWarning: The key function is deprecated and may be removed in a future version.\n",
      "        Use the `.keyword` attribute instead.\n",
      "WARNING: AstropyDeprecationWarning: The key function is deprecated and may be removed in a future version.\n",
      "        Use the `.keyword` attribute instead. [pywcsgrid2.wcs_helper]\n",
      "WARNING:astropy:AstropyDeprecationWarning: The key function is deprecated and may be removed in a future version.\n",
      "        Use the `.keyword` attribute instead.\n",
      "WARNING: AstropyDeprecationWarning: The key function is deprecated and may be removed in a future version.\n",
      "        Use the `.keyword` attribute instead. [pywcsgrid2.wcs_helper]\n",
      "WARNING:astropy:AstropyDeprecationWarning: The key function is deprecated and may be removed in a future version.\n",
      "        Use the `.keyword` attribute instead.\n",
      "WARNING: AstropyDeprecationWarning: The append function is deprecated and may be removed in a future version.\n",
      "        Use :meth:`Header.append` instead. [pywcsgrid2.wcs_helper]\n",
      "WARNING:astropy:AstropyDeprecationWarning: The append function is deprecated and may be removed in a future version.\n",
      "        Use :meth:`Header.append` instead.\n",
      "WARNING: AstropyDeprecationWarning: The key function is deprecated and may be removed in a future version.\n",
      "        Use the `.keyword` attribute instead. [pywcsgrid2.wcs_helper]\n",
      "WARNING:astropy:AstropyDeprecationWarning: The key function is deprecated and may be removed in a future version.\n",
      "        Use the `.keyword` attribute instead.\n",
      "WARNING: AstropyDeprecationWarning: The ascard function is deprecated and may be removed in a future version.\n",
      "        Use the `.cards` attribute instead. [pywcsgrid2.wcs_helper]\n",
      "WARNING:astropy:AstropyDeprecationWarning: The ascard function is deprecated and may be removed in a future version.\n",
      "        Use the `.cards` attribute instead.\n",
      "/Users/mdwood/fermi/fermipy/fermipy/plotting.py:171: RuntimeWarning: invalid value encountered in power\n",
      "  np.power(resdat, gamma, resdat)\n",
      "/Users/mdwood/src/ScienceTools/x86_64-apple-darwin14.3.0/lib/python2.7/site-packages/matplotlib/colorbar.py:588: RuntimeWarning: invalid value encountered in greater\n",
      "  inrange = (ticks > -0.001) & (ticks < 1.001)\n",
      "/Users/mdwood/src/ScienceTools/x86_64-apple-darwin14.3.0/lib/python2.7/site-packages/matplotlib/colorbar.py:588: RuntimeWarning: invalid value encountered in less\n",
      "  inrange = (ticks > -0.001) & (ticks < 1.001)\n"
     ]
    }
   ],
   "source": [
    "gta.write_roi('fit0')"
   ]
  },
  {
   "cell_type": "markdown",
   "metadata": {},
   "source": [
    "There are a lot of diagnostic plots also saved at the same time.  "
   ]
  },
  {
   "cell_type": "code",
   "execution_count": 16,
   "metadata": {
    "collapsed": false
   },
   "outputs": [
    {
     "name": "stdout",
     "output_type": "stream",
     "text": [
      "-rw-r--r--  1 mdwood  staff  40456 Nov 18 08:18 pg1553/fit0_counts_map_2.000_5.477.png\r\n",
      "-rw-r--r--  1 mdwood  staff  16647 Nov 18 08:18 pg1553/fit0_counts_map_comp_xproj_2.000_5.477.png\r\n",
      "-rw-r--r--  1 mdwood  staff  16816 Nov 18 08:18 pg1553/fit0_counts_map_comp_yproj_2.000_5.477.png\r\n",
      "-rw-r--r--  1 mdwood  staff  19386 Nov 18 08:18 pg1553/fit0_counts_map_xproj_2.000_5.477.png\r\n",
      "-rw-r--r--  1 mdwood  staff  19699 Nov 18 08:18 pg1553/fit0_counts_map_yproj_2.000_5.477.png\r\n",
      "-rw-r--r--  1 mdwood  staff  41543 Nov 18 08:18 pg1553/fit0_counts_spectrum.png\r\n",
      "-rw-r--r--  1 mdwood  staff  34937 Nov 18 08:18 pg1553/fit0_model_map_2.000_5.477.png\r\n",
      "-rw-r--r--  1 mdwood  staff  34937 Nov 18 08:18 pg1553/fit0_model_map_2.000_5.477_00.png\r\n"
     ]
    }
   ],
   "source": [
    "ls -l pg1553/*.png"
   ]
  },
  {
   "cell_type": "code",
   "execution_count": 17,
   "metadata": {
    "collapsed": false
   },
   "outputs": [],
   "source": [
    "from IPython.display import Image, display\n",
    "from glob import glob"
   ]
  },
  {
   "cell_type": "code",
   "execution_count": 18,
   "metadata": {
    "collapsed": false
   },
   "outputs": [],
   "source": [
    "pngs = glob('*.png')"
   ]
  },
  {
   "cell_type": "code",
   "execution_count": 19,
   "metadata": {
    "collapsed": false,
    "scrolled": false
   },
   "outputs": [],
   "source": [
    "for png in pngs:\n",
    "    my_image = Image(png)\n",
    "    display(my_image)"
   ]
  },
  {
   "cell_type": "markdown",
   "metadata": {},
   "source": [
    "### Reading in the results\n",
    "\n",
    "Since the results are saved, you can load them back up at any point (you can also get to these within python).  Here we retrieve the analysis results from the output numpy file. "
   ]
  },
  {
   "cell_type": "code",
   "execution_count": 20,
   "metadata": {
    "collapsed": false
   },
   "outputs": [],
   "source": [
    "c = np.load('pg1553/fit0.npy').flat[0]"
   ]
  },
  {
   "cell_type": "markdown",
   "metadata": {},
   "source": [
    "Here's all the info that you have access to."
   ]
  },
  {
   "cell_type": "code",
   "execution_count": 21,
   "metadata": {
    "collapsed": false,
    "scrolled": false
   },
   "outputs": [
    {
     "data": {
      "text/plain": [
       "['eflux100',\n",
       " 'Source_Name',\n",
       " 'flux10000',\n",
       " 'lnlprofile',\n",
       " 'eflux10000_ul95',\n",
       " 'spatial_pars',\n",
       " 'SpatialModel',\n",
       " 'flux10000_ul95',\n",
       " 'flux100',\n",
       " 'flux100_ul95',\n",
       " 'flux_ul95',\n",
       " 'offset_dec',\n",
       " 'dfde1000',\n",
       " 'ts',\n",
       " 'class',\n",
       " 'eflux10000',\n",
       " 'params',\n",
       " 'offset_glat',\n",
       " 'dfde100',\n",
       " 'eflux100_ul95',\n",
       " 'offset_ra',\n",
       " 'ra',\n",
       " 'SpatialType',\n",
       " 'offset_glon',\n",
       " 'glon',\n",
       " 'model_flux',\n",
       " 'SpatialWidth',\n",
       " 'eflux1000',\n",
       " 'DEJ2000',\n",
       " 'eflux',\n",
       " 'glat',\n",
       " 'dfde',\n",
       " 'covar',\n",
       " 'SpectrumType',\n",
       " 'catalog',\n",
       " 'assoc',\n",
       " 'spectral_pars',\n",
       " 'offset',\n",
       " 'dfde10000',\n",
       " 'eflux1000_ul95',\n",
       " 'name',\n",
       " 'flux1000_ul95',\n",
       " 'flux1000',\n",
       " 'SourceType',\n",
       " 'extension',\n",
       " 'eflux_ul95',\n",
       " 'model_counts',\n",
       " 'Npred',\n",
       " 'flux',\n",
       " 'RAJ2000',\n",
       " 'sed',\n",
       " 'pivot_energy',\n",
       " 'dec']"
      ]
     },
     "execution_count": 21,
     "metadata": {},
     "output_type": "execute_result"
    }
   ],
   "source": [
    "c['sources']['3FGL J1555.7+1111'].keys()"
   ]
  },
  {
   "cell_type": "markdown",
   "metadata": {},
   "source": [
    "Let's take a look at the flux, spectral parameters, and TS."
   ]
  },
  {
   "cell_type": "code",
   "execution_count": 22,
   "metadata": {
    "collapsed": false
   },
   "outputs": [
    {
     "data": {
      "text/plain": [
       "array([  6.17379656e-08,   6.16059393e-09])"
      ]
     },
     "execution_count": 22,
     "metadata": {},
     "output_type": "execute_result"
    }
   ],
   "source": [
    "c['sources']['3FGL J1555.7+1111']['flux']"
   ]
  },
  {
   "cell_type": "code",
   "execution_count": 23,
   "metadata": {
    "collapsed": false
   },
   "outputs": [
    {
     "data": {
      "text/plain": [
       "{'Eb': array([ 1491.38049316,            nan]),\n",
       " 'alpha': array([ 1.53173542,  0.05066411]),\n",
       " 'beta': array([ 0.04372217,  0.01761267]),\n",
       " 'norm': array([  6.11726875e-12,   3.06869474e-13]),\n",
       " 'spectrum_type': 'LogParabola'}"
      ]
     },
     "execution_count": 23,
     "metadata": {},
     "output_type": "execute_result"
    }
   ],
   "source": [
    "c['sources']['3FGL J1555.7+1111']['params']"
   ]
  },
  {
   "cell_type": "code",
   "execution_count": 24,
   "metadata": {
    "collapsed": false
   },
   "outputs": [
    {
     "data": {
      "text/plain": [
       "3003.9580848564656"
      ]
     },
     "execution_count": 24,
     "metadata": {},
     "output_type": "execute_result"
    }
   ],
   "source": [
    "c['sources']['3FGL J1555.7+1111']['ts']"
   ]
  },
  {
   "cell_type": "markdown",
   "metadata": {},
   "source": [
    "The SED is in there as well.  We can plot it."
   ]
  },
  {
   "cell_type": "code",
   "execution_count": 25,
   "metadata": {
    "collapsed": true
   },
   "outputs": [],
   "source": [
    "E = np.array(c['sources']['3FGL J1555.7+1111']['model_flux']['ecenter'])\n",
    "dfde = np.array(c['sources']['3FGL J1555.7+1111']['model_flux']['dfde'])\n",
    "dfde_hi = np.array(c['sources']['3FGL J1555.7+1111']['model_flux']['dfde_hi'])\n",
    "dfde_lo = np.array(c['sources']['3FGL J1555.7+1111']['model_flux']['dfde_lo'])"
   ]
  },
  {
   "cell_type": "code",
   "execution_count": 26,
   "metadata": {
    "collapsed": false
   },
   "outputs": [
    {
     "data": {
      "image/png": "[encoded data removed]",
      "text/plain": [
       "<matplotlib.figure.Figure at 0x10f637590>"
      ]
     },
     "metadata": {},
     "output_type": "display_data"
    }
   ],
   "source": [
    "plt.loglog(10**E, (E**2)*dfde, 'k--')\n",
    "plt.loglog(10**E, (E**2)*dfde_hi, 'k')\n",
    "plt.loglog(10**E, (E**2)*dfde_lo, 'k')\n",
    "plt.xlabel('E [MeV]')\n",
    "plt.ylabel(r'E$^2$ dNdE [MeV cm$^{-2}$ s$^{-1}$]')\n",
    "plt.show()"
   ]
  },
  {
   "cell_type": "markdown",
   "metadata": {},
   "source": [
    "If you want SED points, there's a function for that.  There are lots of options for this which you can set in the config file or from keyword arguments of the function itself."
   ]
  },
  {
   "cell_type": "code",
   "execution_count": 27,
   "metadata": {
    "collapsed": false
   },
   "outputs": [
    {
     "name": "stderr",
     "output_type": "stream",
     "text": [
      "2015-11-18 08:18:28 - GTAnalysis - INFO - Computing SED for 3FGL J1555.7+1111\n"
     ]
    }
   ],
   "source": [
    "sed = gta.sed('3FGL J1555.7+1111')"
   ]
  },
  {
   "cell_type": "markdown",
   "metadata": {},
   "source": [
    "You can save the state to the yaml file or you can just access it directly.  This is also the way to get at the dictionary for any individual source."
   ]
  },
  {
   "cell_type": "code",
   "execution_count": 28,
   "metadata": {
    "collapsed": false
   },
   "outputs": [],
   "source": [
    "src = gta.roi['3FGL J1555.7+1111']"
   ]
  },
  {
   "cell_type": "code",
   "execution_count": 29,
   "metadata": {
    "collapsed": false,
    "scrolled": false
   },
   "outputs": [
    {
     "data": {
      "image/png": "[encoded data removed]",
      "text/plain": [
       "<matplotlib.figure.Figure at 0x112951c50>"
      ]
     },
     "metadata": {},
     "output_type": "display_data"
    }
   ],
   "source": [
    "plt.loglog(10**E, dfde, 'k--')\n",
    "plt.loglog(10**E, dfde_hi, 'k')\n",
    "plt.loglog(10**E, dfde_lo, 'k')\n",
    "plt.errorbar(10**np.array(src.data['sed']['ecenter'])\n",
    "             ,src.data['sed']['dfde'], \n",
    "             yerr=src.data['sed']['dfde_err'], fmt ='o')\n",
    "plt.xlabel('E [MeV]')\n",
    "plt.ylabel(r'dNdE [cm$^{-2}$ s$^{-1}$ MeV$^{-1}$]')\n",
    "plt.show()"
   ]
  },
  {
   "cell_type": "markdown",
   "metadata": {},
   "source": [
    "Looks like those last two points should be upper limits.  Let's plot those instead."
   ]
  },
  {
   "cell_type": "code",
   "execution_count": 30,
   "metadata": {
    "collapsed": false,
    "scrolled": false
   },
   "outputs": [
    {
     "data": {
      "image/png": "[encoded data removed]",
      "text/plain": [
       "<matplotlib.figure.Figure at 0x10d0f0ed0>"
      ]
     },
     "metadata": {},
     "output_type": "display_data"
    }
   ],
   "source": [
    "plt.loglog(10**E, dfde, 'k--')\n",
    "plt.loglog(10**E, dfde_hi, 'k')\n",
    "plt.loglog(10**E, dfde_lo, 'k')\n",
    "plt.errorbar(10**np.array(src.data['sed']['ecenter'][:-2])\n",
    "             ,src.data['sed']['dfde'][:-2], \n",
    "             yerr=src.data['sed']['dfde_err'][:-2], fmt ='o')\n",
    "plt.plot(10**np.array(src.data['sed']['ecenter'][-2:])\n",
    "             ,src.data['sed']['dfde_ul95'][-2:], 'o')\n",
    "plt.xlabel('E [MeV]')\n",
    "plt.ylabel(r'dNdE [cm$^{-2}$ s$^{-1}$ MeV$^{-1}$]')\n",
    "plt.show()"
   ]
  },
  {
   "cell_type": "markdown",
   "metadata": {},
   "source": [
    "### Summary\n",
    "\n",
    "There is a lot of other functionality and you should look through the docs for more details.  You can also inspect the GTAnalysis object for some of these (like TS Maps, extension tests, and using event types).  Following threads cover some of the more advanced functionality of fermipy:\n",
    "\n",
    "* [IC443](ic443.ipynb) : Analysis to measure the angular extension of the SNR IC443.\n",
    "* [Draco](draco.ipynb) : DM upper limit analysis of the Draco dwarf spheroidal galaxy."
   ]
  }
 ],
 "metadata": {
  "kernelspec": {
   "display_name": "Python 2",
   "language": "python",
   "name": "python2"
  },
  "language_info": {
   "codemirror_mode": {
    "name": "ipython",
    "version": 2
   },
   "file_extension": ".py",
   "mimetype": "text/x-python",
   "name": "python",
   "nbconvert_exporter": "python",
   "pygments_lexer": "ipython2",
   "version": "2.7.8"
  }
 },
 "nbformat": 4,
 "nbformat_minor": 0
}
