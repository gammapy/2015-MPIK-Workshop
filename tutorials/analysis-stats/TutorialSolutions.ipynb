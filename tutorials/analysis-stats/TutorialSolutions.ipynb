{
 "cells": [
  {
   "cell_type": "markdown",
   "metadata": {},
   "source": [
    "# Tutorial about statistical methods\n",
    "The following contains a sequence of simple exercises, designed to get familiar with using Minuit for maximum likelihood fits and emcee to determine parameters by MCMC. Commands are generally commented, i.e. in order to activate them, simply uncomment them. A few functions are still to be defined... which is part of the exercise. Have fun!"
   ]
  },
  {
   "cell_type": "code",
   "execution_count": 1,
   "metadata": {
    "collapsed": true
   },
   "outputs": [],
   "source": [
    "%matplotlib inline\n",
    "import numpy as np\n",
    "import matplotlib.pyplot as plt"
   ]
  },
  {
   "cell_type": "markdown",
   "metadata": {},
   "source": [
    "## Generate a dataset to be fitted "
   ]
  },
  {
   "cell_type": "code",
   "execution_count": 2,
   "metadata": {
    "collapsed": false
   },
   "outputs": [
    {
     "data": {
      "image/png": "[encoded data removed]",
      "text/plain": [
       "<matplotlib.figure.Figure at 0x1078641d0>"
      ]
     },
     "metadata": {},
     "output_type": "display_data"
    }
   ],
   "source": [
    "np.random.seed(12345)\n",
    "y = np.random.random(10000)\n",
    "x = 1./np.sqrt(y)\n",
    "plt.hist(x, bins=100, range=(1,10), histtype='stepfilled',color='blue')\n",
    "plt.yscale('log')"
   ]
  },
  {
   "cell_type": "markdown",
   "metadata": {},
   "source": [
    "## Maximum likelihood fit of a simple power law\n",
    "First define the negative-log likelihood function for a density proportional to x**(-a) the range 1 < x < infinity"
   ]
  },
  {
   "cell_type": "code",
   "execution_count": 3,
   "metadata": {
    "collapsed": true
   },
   "outputs": [],
   "source": [
    "def nllp(a):\n",
    "    return np.sum(a*np.log(x) - np.log(a-1))"
   ]
  },
  {
   "cell_type": "markdown",
   "metadata": {},
   "source": [
    "Then minimize it using iminuit"
   ]
  },
  {
   "cell_type": "code",
   "execution_count": 5,
   "metadata": {
    "collapsed": true
   },
   "outputs": [],
   "source": [
    "import iminuit"
   ]
  },
  {
   "cell_type": "code",
   "execution_count": 6,
   "metadata": {
    "collapsed": true
   },
   "outputs": [],
   "source": [
    "minp = iminuit.Minuit(nllp, a=3, error_a=0.1, errordef=0.5)"
   ]
  },
  {
   "cell_type": "code",
   "execution_count": 8,
   "metadata": {
    "collapsed": false
   },
   "outputs": [
    {
     "data": {
      "text/html": [
       "<hr>"
      ]
     },
     "metadata": {},
     "output_type": "display_data"
    },
    {
     "data": {
      "text/html": [
       "\n",
       "        <table>\n",
       "            <tr>\n",
       "                <td title=\"Minimum value of function\">FCN = 7888.70469829</td>\n",
       "                <td title=\"Total number of call to FCN so far\">TOTAL NCALL = 29</td>\n",
       "                <td title=\"Number of call in last migrad\">NCALLS = 11</td>\n",
       "            </tr>\n",
       "            <tr>\n",
       "                <td title=\"Estimated distance to minimum\">EDM = 2.39178870231e-10</td>\n",
       "                <td title=\"Maximum EDM definition of convergence\">GOAL EDM = 5e-06</td>\n",
       "                <td title=\"Error def. Amount of increase in FCN to be defined as 1 standard deviation\">\n",
       "                UP = 0.5</td>\n",
       "            </tr>\n",
       "        </table>\n",
       "        \n",
       "        <table>\n",
       "            <tr>\n",
       "                <td align=\"center\" title=\"Validity of the migrad call\">Valid</td>\n",
       "                <td align=\"center\" title=\"Validity of parameters\">Valid Param</td>\n",
       "                <td align=\"center\" title=\"Is Covariance matrix accurate?\">Accurate Covar</td>\n",
       "                <td align=\"center\" title=\"Positive definiteness of covariance matrix\">PosDef</td>\n",
       "                <td align=\"center\" title=\"Was covariance matrix made posdef by adding diagonal element\">Made PosDef</td>\n",
       "            </tr>\n",
       "            <tr>\n",
       "                <td align=\"center\" style=\"background-color:#92CCA6\">True</td>\n",
       "                <td align=\"center\" style=\"background-color:#92CCA6\">True</td>\n",
       "                <td align=\"center\" style=\"background-color:#92CCA6\">True</td>\n",
       "                <td align=\"center\" style=\"background-color:#92CCA6\">True</td>\n",
       "                <td align=\"center\" style=\"background-color:#92CCA6\">False</td>\n",
       "            </tr>\n",
       "            <tr>\n",
       "                <td align=\"center\" title=\"Was last hesse call fail?\">Hesse Fail</td>\n",
       "                <td align=\"center\" title=\"Validity of covariance\">HasCov</td>\n",
       "                <td align=\"center\" title=\"Is EDM above goal EDM?\">Above EDM</td>\n",
       "                <td align=\"center\"></td>\n",
       "                <td align=\"center\" title=\"Did last migrad call reach max call limit?\">Reach calllim</td>\n",
       "            </tr>\n",
       "            <tr>\n",
       "                <td align=\"center\" style=\"background-color:#92CCA6\">False</td>\n",
       "                <td align=\"center\" style=\"background-color:#92CCA6\">True</td>\n",
       "                <td align=\"center\" style=\"background-color:#92CCA6\">False</td>\n",
       "                <td align=\"center\"></td>\n",
       "                <td align=\"center\" style=\"background-color:#92CCA6\">False</td>\n",
       "            </tr>\n",
       "        </table>\n",
       "        "
      ]
     },
     "metadata": {},
     "output_type": "display_data"
    },
    {
     "data": {
      "text/html": [
       "\n",
       "        <table>\n",
       "            <tr>\n",
       "                <td><a href=\"#\" onclick=\"$('#qaenSKEEqr').toggle()\">+</a></td>\n",
       "                <td title=\"Variable name\">Name</td>\n",
       "                <td title=\"Value of parameter\">Value</td>\n",
       "                <td title=\"Parabolic error\">Parab Error</td>\n",
       "                <td title=\"Minos lower error\">Minos Error-</td>\n",
       "                <td title=\"Minos upper error\">Minos Error+</td>\n",
       "                <td title=\"Lower limit of the parameter\">Limit-</td>\n",
       "                <td title=\"Upper limit of the parameter\">Limit+</td>\n",
       "                <td title=\"Is the parameter fixed in the fit\">FIXED</td>\n",
       "            </tr>\n",
       "        \n",
       "            <tr>\n",
       "                <td>1</td>\n",
       "                <td>a</td>\n",
       "                <td>3.02417</td>\n",
       "                <td>0.0202417</td>\n",
       "                <td>0</td>\n",
       "                <td>0</td>\n",
       "                <td></td>\n",
       "                <td></td>\n",
       "                <td></td>\n",
       "            </tr>\n",
       "            \n",
       "            </table>\n",
       "        \n",
       "            <pre id=\"qaenSKEEqr\" style=\"display:none;\">\n",
       "            <textarea rows=\"8\" cols=\"50\" onclick=\"this.select()\" readonly>\\begin{tabular}{|c|r|r|r|r|r|r|r|c|}\n",
       "\\hline\n",
       " & Name & Value & Para Error & Error+ & Error- & Limit+ & Limit- & FIXED\\\\\n",
       "\\hline\n",
       "1 & a & 3.024e+00 & 2.024e-02 &  &  &  &  & \\\\\n",
       "\\hline\n",
       "\\end{tabular}</textarea>\n",
       "            </pre>\n",
       "            "
      ]
     },
     "metadata": {},
     "output_type": "display_data"
    },
    {
     "data": {
      "text/html": [
       "<hr>"
      ]
     },
     "metadata": {},
     "output_type": "display_data"
    }
   ],
   "source": [
    "minp.migrad();"
   ]
  },
  {
   "cell_type": "markdown",
   "metadata": {},
   "source": [
    "## Error analysis\n",
    "First determine the parabolic errors using hesse() and then do a parameter scan using minos() to determine the 68% confidence level errors."
   ]
  },
  {
   "cell_type": "code",
   "execution_count": 9,
   "metadata": {
    "collapsed": false
   },
   "outputs": [
    {
     "data": {
      "text/html": [
       "\n",
       "        <table>\n",
       "            <tr>\n",
       "                <td><a href=\"#\" onclick=\"$('#PlMLUaTVnw').toggle()\">+</a></td>\n",
       "                <td title=\"Variable name\">Name</td>\n",
       "                <td title=\"Value of parameter\">Value</td>\n",
       "                <td title=\"Parabolic error\">Parab Error</td>\n",
       "                <td title=\"Minos lower error\">Minos Error-</td>\n",
       "                <td title=\"Minos upper error\">Minos Error+</td>\n",
       "                <td title=\"Lower limit of the parameter\">Limit-</td>\n",
       "                <td title=\"Upper limit of the parameter\">Limit+</td>\n",
       "                <td title=\"Is the parameter fixed in the fit\">FIXED</td>\n",
       "            </tr>\n",
       "        \n",
       "            <tr>\n",
       "                <td>1</td>\n",
       "                <td>a</td>\n",
       "                <td>3.02417</td>\n",
       "                <td>0.0202417</td>\n",
       "                <td>0</td>\n",
       "                <td>0</td>\n",
       "                <td></td>\n",
       "                <td></td>\n",
       "                <td></td>\n",
       "            </tr>\n",
       "            \n",
       "            </table>\n",
       "        \n",
       "            <pre id=\"PlMLUaTVnw\" style=\"display:none;\">\n",
       "            <textarea rows=\"8\" cols=\"50\" onclick=\"this.select()\" readonly>\\begin{tabular}{|c|r|r|r|r|r|r|r|c|}\n",
       "\\hline\n",
       " & Name & Value & Para Error & Error+ & Error- & Limit+ & Limit- & FIXED\\\\\n",
       "\\hline\n",
       "1 & a & 3.024e+00 & 2.024e-02 &  &  &  &  & \\\\\n",
       "\\hline\n",
       "\\end{tabular}</textarea>\n",
       "            </pre>\n",
       "            "
      ]
     },
     "metadata": {},
     "output_type": "display_data"
    },
    {
     "data": {
      "text/html": [
       "\n",
       "            <table>\n",
       "                <tr>\n",
       "                    <td><a onclick=\"$('#NifplWPXmR').toggle()\" href=\"#\">+</a></td>\n",
       "        \n",
       "            <td>\n",
       "            <div style=\"width:20px;position:relative; width: -moz-fit-content;\">\n",
       "            <div style=\"display:inline-block;-webkit-writing-mode:vertical-rl;-moz-writing-mode: vertical-rl;writing-mode: vertical-rl;\">\n",
       "            a\n",
       "            </div>\n",
       "            </div>\n",
       "            </td>\n",
       "            \n",
       "                </tr>\n",
       "                \n",
       "            <tr>\n",
       "                <td>a</td>\n",
       "            \n",
       "                <td style=\"background-color:rgb(255,117,117)\">\n",
       "                1.00\n",
       "                </td>\n",
       "                \n",
       "            </tr>\n",
       "            </table>\n",
       "\n",
       "            <pre id=\"NifplWPXmR\" style=\"display:none;\">\n",
       "            <textarea rows=\"11\" cols=\"50\" onclick=\"this.select()\" readonly>%\\usepackage[table]{xcolor} % include this for color\n",
       "%\\usepackage{rotating} % include this for rotate header\n",
       "%\\documentclass[xcolor=table]{beamer} % for beamer\n",
       "\\begin{tabular}{|c|c|}\n",
       "\\hline\n",
       "\\rotatebox{90}{} & \\rotatebox{90}{a}\\\\\n",
       "\\hline\n",
       "a & \\cellcolor[RGB]{255,117,117} 1.00\\\\\n",
       "\\hline\n",
       "\\end{tabular}</textarea>\n",
       "            </pre>\n",
       "            "
      ]
     },
     "metadata": {},
     "output_type": "display_data"
    }
   ],
   "source": [
    "minp.hesse();"
   ]
  },
  {
   "cell_type": "code",
   "execution_count": 10,
   "metadata": {
    "collapsed": false
   },
   "outputs": [
    {
     "data": {
      "text/html": [
       "\n",
       "        <span>Minos status for a: <span style=\"background-color:#92CCA6\">VALID</span></span>\n",
       "        <table>\n",
       "            <tr>\n",
       "                <td title=\"lower and upper minos error of the parameter\">Error</td>\n",
       "                <td>-0.0201738617587</td>\n",
       "                <td>0.0203091857502</td>\n",
       "            </tr>\n",
       "            <tr>\n",
       "                <td title=\"Validity of minos error\">Valid</td>\n",
       "                <td style=\"background-color:#92CCA6\">True</td>\n",
       "                <td style=\"background-color:#92CCA6\">True</td>\n",
       "            </tr>\n",
       "            <tr>\n",
       "                <td title=\"Did minos error search hit limit of any paramter?\">At Limit</td>\n",
       "                <td style=\"background-color:#92CCA6\">False</td>\n",
       "                <td style=\"background-color:#92CCA6\">False</td>\n",
       "            </tr>\n",
       "            <tr>\n",
       "                <td title=\"I don't really know what this one means... Post it in issue if you know\">Max FCN</td>\n",
       "                <td style=\"background-color:#92CCA6\">False</td>\n",
       "                <td style=\"background-color:#92CCA6\">False</td>\n",
       "            </tr>\n",
       "            <tr>\n",
       "                <td title=\"New minimum found when doing minos scan.\">New Min</td>\n",
       "                <td style=\"background-color:#92CCA6\">False</td>\n",
       "                <td style=\"background-color:#92CCA6\">False</td>\n",
       "            </tr>\n",
       "        </table>\n",
       "        "
      ]
     },
     "metadata": {},
     "output_type": "display_data"
    },
    {
     "data": {
      "image/png": "[encoded data removed]",
      "text/plain": [
       "<matplotlib.figure.Figure at 0x1026a5510>"
      ]
     },
     "metadata": {},
     "output_type": "display_data"
    }
   ],
   "source": [
    "minp.minos();\n",
    "minp.draw_profile('a');"
   ]
  },
  {
   "cell_type": "markdown",
   "metadata": {},
   "source": [
    "## Use of an un-normalised PDF \n",
    "The above example shall be modified such that the normalisation of the likelihood function, which so far was determined analytically, now is determined numerically in the fit. This is the more realistic case, since in many case no (simple) analytical normalisation exists. As a first step, this requires to load the integration package.   "
   ]
  },
  {
   "cell_type": "code",
   "execution_count": 11,
   "metadata": {
    "collapsed": true
   },
   "outputs": [],
   "source": [
    "from scipy.integrate import quad"
   ]
  },
  {
   "cell_type": "code",
   "execution_count": 12,
   "metadata": {
    "collapsed": true
   },
   "outputs": [],
   "source": [
    "def pdfpn(x, a):\n",
    "    return x**(-a)\n",
    "def pdfpn_norm(a):\n",
    "    return quad(pdfpn, 1, np.inf, args=(a))[0] \n",
    "def nllpn(a):\n",
    "    return -np.sum(np.log(pdfpn(x,a))) + np.log(pdfpn_norm(a))*len(x) "
   ]
  },
  {
   "cell_type": "markdown",
   "metadata": {},
   "source": [
    "Then do the same minimization steps as before."
   ]
  },
  {
   "cell_type": "code",
   "execution_count": 13,
   "metadata": {
    "collapsed": true
   },
   "outputs": [],
   "source": [
    "minpn = iminuit.Minuit(nllpn, a=3, error_a=0.1, errordef=0.5)"
   ]
  },
  {
   "cell_type": "code",
   "execution_count": 14,
   "metadata": {
    "collapsed": false
   },
   "outputs": [
    {
     "data": {
      "text/html": [
       "<hr>"
      ]
     },
     "metadata": {},
     "output_type": "display_data"
    },
    {
     "data": {
      "text/html": [
       "\n",
       "        <table>\n",
       "            <tr>\n",
       "                <td title=\"Minimum value of function\">FCN = 7888.70469776</td>\n",
       "                <td title=\"Total number of call to FCN so far\">TOTAL NCALL = 18</td>\n",
       "                <td title=\"Number of call in last migrad\">NCALLS = 18</td>\n",
       "            </tr>\n",
       "            <tr>\n",
       "                <td title=\"Estimated distance to minimum\">EDM = 1.2507327863e-08</td>\n",
       "                <td title=\"Maximum EDM definition of convergence\">GOAL EDM = 5e-06</td>\n",
       "                <td title=\"Error def. Amount of increase in FCN to be defined as 1 standard deviation\">\n",
       "                UP = 0.5</td>\n",
       "            </tr>\n",
       "        </table>\n",
       "        \n",
       "        <table>\n",
       "            <tr>\n",
       "                <td align=\"center\" title=\"Validity of the migrad call\">Valid</td>\n",
       "                <td align=\"center\" title=\"Validity of parameters\">Valid Param</td>\n",
       "                <td align=\"center\" title=\"Is Covariance matrix accurate?\">Accurate Covar</td>\n",
       "                <td align=\"center\" title=\"Positive definiteness of covariance matrix\">PosDef</td>\n",
       "                <td align=\"center\" title=\"Was covariance matrix made posdef by adding diagonal element\">Made PosDef</td>\n",
       "            </tr>\n",
       "            <tr>\n",
       "                <td align=\"center\" style=\"background-color:#92CCA6\">True</td>\n",
       "                <td align=\"center\" style=\"background-color:#92CCA6\">True</td>\n",
       "                <td align=\"center\" style=\"background-color:#92CCA6\">True</td>\n",
       "                <td align=\"center\" style=\"background-color:#92CCA6\">True</td>\n",
       "                <td align=\"center\" style=\"background-color:#92CCA6\">False</td>\n",
       "            </tr>\n",
       "            <tr>\n",
       "                <td align=\"center\" title=\"Was last hesse call fail?\">Hesse Fail</td>\n",
       "                <td align=\"center\" title=\"Validity of covariance\">HasCov</td>\n",
       "                <td align=\"center\" title=\"Is EDM above goal EDM?\">Above EDM</td>\n",
       "                <td align=\"center\"></td>\n",
       "                <td align=\"center\" title=\"Did last migrad call reach max call limit?\">Reach calllim</td>\n",
       "            </tr>\n",
       "            <tr>\n",
       "                <td align=\"center\" style=\"background-color:#92CCA6\">False</td>\n",
       "                <td align=\"center\" style=\"background-color:#92CCA6\">True</td>\n",
       "                <td align=\"center\" style=\"background-color:#92CCA6\">False</td>\n",
       "                <td align=\"center\"></td>\n",
       "                <td align=\"center\" style=\"background-color:#92CCA6\">False</td>\n",
       "            </tr>\n",
       "        </table>\n",
       "        "
      ]
     },
     "metadata": {},
     "output_type": "display_data"
    },
    {
     "data": {
      "text/html": [
       "\n",
       "        <table>\n",
       "            <tr>\n",
       "                <td><a href=\"#\" onclick=\"$('#wDpSrAzKVq').toggle()\">+</a></td>\n",
       "                <td title=\"Variable name\">Name</td>\n",
       "                <td title=\"Value of parameter\">Value</td>\n",
       "                <td title=\"Parabolic error\">Parab Error</td>\n",
       "                <td title=\"Minos lower error\">Minos Error-</td>\n",
       "                <td title=\"Minos upper error\">Minos Error+</td>\n",
       "                <td title=\"Lower limit of the parameter\">Limit-</td>\n",
       "                <td title=\"Upper limit of the parameter\">Limit+</td>\n",
       "                <td title=\"Is the parameter fixed in the fit\">FIXED</td>\n",
       "            </tr>\n",
       "        \n",
       "            <tr>\n",
       "                <td>1</td>\n",
       "                <td>a</td>\n",
       "                <td>3.02417</td>\n",
       "                <td>0.0202402</td>\n",
       "                <td>0</td>\n",
       "                <td>0</td>\n",
       "                <td></td>\n",
       "                <td></td>\n",
       "                <td></td>\n",
       "            </tr>\n",
       "            \n",
       "            </table>\n",
       "        \n",
       "            <pre id=\"wDpSrAzKVq\" style=\"display:none;\">\n",
       "            <textarea rows=\"8\" cols=\"50\" onclick=\"this.select()\" readonly>\\begin{tabular}{|c|r|r|r|r|r|r|r|c|}\n",
       "\\hline\n",
       " & Name & Value & Para Error & Error+ & Error- & Limit+ & Limit- & FIXED\\\\\n",
       "\\hline\n",
       "1 & a & 3.024e+00 & 2.024e-02 &  &  &  &  & \\\\\n",
       "\\hline\n",
       "\\end{tabular}</textarea>\n",
       "            </pre>\n",
       "            "
      ]
     },
     "metadata": {},
     "output_type": "display_data"
    },
    {
     "data": {
      "text/html": [
       "<hr>"
      ]
     },
     "metadata": {},
     "output_type": "display_data"
    }
   ],
   "source": [
    "minpn.migrad();"
   ]
  },
  {
   "cell_type": "markdown",
   "metadata": {},
   "source": [
    "## Extend the fit model by an exponential cutoff\n",
    "The exponential cutoff is implemented by exp(-b*b*x), i.e. exponential growth is not allowed for real valued parameters b. The implications of this ansatz shall be discussed when looking at the solution. After that, the example can be modified to use exp(-b*x). \n",
    "\n",
    "Here the likelihood function has no (simple) analytical normalisation anymore, i.e. we directly do the numerical approach."
   ]
  },
  {
   "cell_type": "code",
   "execution_count": 15,
   "metadata": {
    "collapsed": true
   },
   "outputs": [],
   "source": [
    "def pdfcn(x, a, b):\n",
    "    return x**(-a)*np.exp(-b*b*x)\n",
    "def pdfcn_norm(a, b):\n",
    "    return quad(pdfcn, 1, np.inf, args=(a, b))[0] \n",
    "def nllcn(a, b):\n",
    "    return -np.sum(np.log(pdfcn(x,a,b))) + np.log(pdfcn_norm(a,b))*len(x) "
   ]
  },
  {
   "cell_type": "markdown",
   "metadata": {},
   "source": [
    "As before, use Minuit for minimisation and error analysis, but now in two dimensions. Study parabolic errors and minos errors, the latter both for the single variables and for both together."
   ]
  },
  {
   "cell_type": "code",
   "execution_count": 16,
   "metadata": {
    "collapsed": true
   },
   "outputs": [],
   "source": [
    "mincn = iminuit.Minuit(nllcn, a=3, b=1, error_a=0.1, error_b=0.1, errordef=0.5)"
   ]
  },
  {
   "cell_type": "code",
   "execution_count": 17,
   "metadata": {
    "collapsed": false
   },
   "outputs": [
    {
     "data": {
      "text/html": [
       "<hr>"
      ]
     },
     "metadata": {},
     "output_type": "display_data"
    },
    {
     "data": {
      "text/html": [
       "\n",
       "        <table>\n",
       "            <tr>\n",
       "                <td title=\"Minimum value of function\">FCN = 7887.87601212</td>\n",
       "                <td title=\"Total number of call to FCN so far\">TOTAL NCALL = 85</td>\n",
       "                <td title=\"Number of call in last migrad\">NCALLS = 85</td>\n",
       "            </tr>\n",
       "            <tr>\n",
       "                <td title=\"Estimated distance to minimum\">EDM = 1.54019145338e-06</td>\n",
       "                <td title=\"Maximum EDM definition of convergence\">GOAL EDM = 5e-06</td>\n",
       "                <td title=\"Error def. Amount of increase in FCN to be defined as 1 standard deviation\">\n",
       "                UP = 0.5</td>\n",
       "            </tr>\n",
       "        </table>\n",
       "        \n",
       "        <table>\n",
       "            <tr>\n",
       "                <td align=\"center\" title=\"Validity of the migrad call\">Valid</td>\n",
       "                <td align=\"center\" title=\"Validity of parameters\">Valid Param</td>\n",
       "                <td align=\"center\" title=\"Is Covariance matrix accurate?\">Accurate Covar</td>\n",
       "                <td align=\"center\" title=\"Positive definiteness of covariance matrix\">PosDef</td>\n",
       "                <td align=\"center\" title=\"Was covariance matrix made posdef by adding diagonal element\">Made PosDef</td>\n",
       "            </tr>\n",
       "            <tr>\n",
       "                <td align=\"center\" style=\"background-color:#92CCA6\">True</td>\n",
       "                <td align=\"center\" style=\"background-color:#92CCA6\">True</td>\n",
       "                <td align=\"center\" style=\"background-color:#92CCA6\">True</td>\n",
       "                <td align=\"center\" style=\"background-color:#92CCA6\">True</td>\n",
       "                <td align=\"center\" style=\"background-color:#92CCA6\">False</td>\n",
       "            </tr>\n",
       "            <tr>\n",
       "                <td align=\"center\" title=\"Was last hesse call fail?\">Hesse Fail</td>\n",
       "                <td align=\"center\" title=\"Validity of covariance\">HasCov</td>\n",
       "                <td align=\"center\" title=\"Is EDM above goal EDM?\">Above EDM</td>\n",
       "                <td align=\"center\"></td>\n",
       "                <td align=\"center\" title=\"Did last migrad call reach max call limit?\">Reach calllim</td>\n",
       "            </tr>\n",
       "            <tr>\n",
       "                <td align=\"center\" style=\"background-color:#92CCA6\">False</td>\n",
       "                <td align=\"center\" style=\"background-color:#92CCA6\">True</td>\n",
       "                <td align=\"center\" style=\"background-color:#92CCA6\">False</td>\n",
       "                <td align=\"center\"></td>\n",
       "                <td align=\"center\" style=\"background-color:#92CCA6\">False</td>\n",
       "            </tr>\n",
       "        </table>\n",
       "        "
      ]
     },
     "metadata": {},
     "output_type": "display_data"
    },
    {
     "data": {
      "text/html": [
       "\n",
       "        <table>\n",
       "            <tr>\n",
       "                <td><a href=\"#\" onclick=\"$('#IUEhqFFwuM').toggle()\">+</a></td>\n",
       "                <td title=\"Variable name\">Name</td>\n",
       "                <td title=\"Value of parameter\">Value</td>\n",
       "                <td title=\"Parabolic error\">Parab Error</td>\n",
       "                <td title=\"Minos lower error\">Minos Error-</td>\n",
       "                <td title=\"Minos upper error\">Minos Error+</td>\n",
       "                <td title=\"Lower limit of the parameter\">Limit-</td>\n",
       "                <td title=\"Upper limit of the parameter\">Limit+</td>\n",
       "                <td title=\"Is the parameter fixed in the fit\">FIXED</td>\n",
       "            </tr>\n",
       "        \n",
       "            <tr>\n",
       "                <td>1</td>\n",
       "                <td>a</td>\n",
       "                <td>2.99501</td>\n",
       "                <td>0.0285219</td>\n",
       "                <td>0</td>\n",
       "                <td>0</td>\n",
       "                <td></td>\n",
       "                <td></td>\n",
       "                <td></td>\n",
       "            </tr>\n",
       "            \n",
       "            <tr>\n",
       "                <td>2</td>\n",
       "                <td>b</td>\n",
       "                <td>0.0895059</td>\n",
       "                <td>0.0316701</td>\n",
       "                <td>0</td>\n",
       "                <td>0</td>\n",
       "                <td></td>\n",
       "                <td></td>\n",
       "                <td></td>\n",
       "            </tr>\n",
       "            \n",
       "            </table>\n",
       "        \n",
       "            <pre id=\"IUEhqFFwuM\" style=\"display:none;\">\n",
       "            <textarea rows=\"10\" cols=\"50\" onclick=\"this.select()\" readonly>\\begin{tabular}{|c|r|r|r|r|r|r|r|c|}\n",
       "\\hline\n",
       " & Name & Value & Para Error & Error+ & Error- & Limit+ & Limit- & FIXED\\\\\n",
       "\\hline\n",
       "1 & a & 2.995e+00 & 2.852e-02 &  &  &  &  & \\\\\n",
       "\\hline\n",
       "2 & b & 8.951e-02 & 3.167e-02 &  &  &  &  & \\\\\n",
       "\\hline\n",
       "\\end{tabular}</textarea>\n",
       "            </pre>\n",
       "            "
      ]
     },
     "metadata": {},
     "output_type": "display_data"
    },
    {
     "data": {
      "text/html": [
       "<hr>"
      ]
     },
     "metadata": {},
     "output_type": "display_data"
    }
   ],
   "source": [
    "mincn.migrad();"
   ]
  },
  {
   "cell_type": "code",
   "execution_count": 18,
   "metadata": {
    "collapsed": false
   },
   "outputs": [
    {
     "data": {
      "text/html": [
       "\n",
       "        <table>\n",
       "            <tr>\n",
       "                <td><a href=\"#\" onclick=\"$('#ZHNudgyucw').toggle()\">+</a></td>\n",
       "                <td title=\"Variable name\">Name</td>\n",
       "                <td title=\"Value of parameter\">Value</td>\n",
       "                <td title=\"Parabolic error\">Parab Error</td>\n",
       "                <td title=\"Minos lower error\">Minos Error-</td>\n",
       "                <td title=\"Minos upper error\">Minos Error+</td>\n",
       "                <td title=\"Lower limit of the parameter\">Limit-</td>\n",
       "                <td title=\"Upper limit of the parameter\">Limit+</td>\n",
       "                <td title=\"Is the parameter fixed in the fit\">FIXED</td>\n",
       "            </tr>\n",
       "        \n",
       "            <tr>\n",
       "                <td>1</td>\n",
       "                <td>a</td>\n",
       "                <td>2.99501</td>\n",
       "                <td>0.0282245</td>\n",
       "                <td>0</td>\n",
       "                <td>0</td>\n",
       "                <td></td>\n",
       "                <td></td>\n",
       "                <td></td>\n",
       "            </tr>\n",
       "            \n",
       "            <tr>\n",
       "                <td>2</td>\n",
       "                <td>b</td>\n",
       "                <td>0.0895059</td>\n",
       "                <td>0.0309978</td>\n",
       "                <td>0</td>\n",
       "                <td>0</td>\n",
       "                <td></td>\n",
       "                <td></td>\n",
       "                <td></td>\n",
       "            </tr>\n",
       "            \n",
       "            </table>\n",
       "        \n",
       "            <pre id=\"ZHNudgyucw\" style=\"display:none;\">\n",
       "            <textarea rows=\"10\" cols=\"50\" onclick=\"this.select()\" readonly>\\begin{tabular}{|c|r|r|r|r|r|r|r|c|}\n",
       "\\hline\n",
       " & Name & Value & Para Error & Error+ & Error- & Limit+ & Limit- & FIXED\\\\\n",
       "\\hline\n",
       "1 & a & 2.995e+00 & 2.822e-02 &  &  &  &  & \\\\\n",
       "\\hline\n",
       "2 & b & 8.951e-02 & 3.100e-02 &  &  &  &  & \\\\\n",
       "\\hline\n",
       "\\end{tabular}</textarea>\n",
       "            </pre>\n",
       "            "
      ]
     },
     "metadata": {},
     "output_type": "display_data"
    },
    {
     "data": {
      "text/html": [
       "\n",
       "            <table>\n",
       "                <tr>\n",
       "                    <td><a onclick=\"$('#KLhgMShADd').toggle()\" href=\"#\">+</a></td>\n",
       "        \n",
       "            <td>\n",
       "            <div style=\"width:20px;position:relative; width: -moz-fit-content;\">\n",
       "            <div style=\"display:inline-block;-webkit-writing-mode:vertical-rl;-moz-writing-mode: vertical-rl;writing-mode: vertical-rl;\">\n",
       "            a\n",
       "            </div>\n",
       "            </div>\n",
       "            </td>\n",
       "            \n",
       "            <td>\n",
       "            <div style=\"width:20px;position:relative; width: -moz-fit-content;\">\n",
       "            <div style=\"display:inline-block;-webkit-writing-mode:vertical-rl;-moz-writing-mode: vertical-rl;writing-mode: vertical-rl;\">\n",
       "            b\n",
       "            </div>\n",
       "            </div>\n",
       "            </td>\n",
       "            \n",
       "                </tr>\n",
       "                \n",
       "            <tr>\n",
       "                <td>a</td>\n",
       "            \n",
       "                <td style=\"background-color:rgb(255,117,117)\">\n",
       "                1.00\n",
       "                </td>\n",
       "                \n",
       "                <td style=\"background-color:rgb(226,160,138)\">\n",
       "                -0.69\n",
       "                </td>\n",
       "                \n",
       "            </tr>\n",
       "            \n",
       "            <tr>\n",
       "                <td>b</td>\n",
       "            \n",
       "                <td style=\"background-color:rgb(226,160,138)\">\n",
       "                -0.69\n",
       "                </td>\n",
       "                \n",
       "                <td style=\"background-color:rgb(255,117,117)\">\n",
       "                1.00\n",
       "                </td>\n",
       "                \n",
       "            </tr>\n",
       "            </table>\n",
       "\n",
       "            <pre id=\"KLhgMShADd\" style=\"display:none;\">\n",
       "            <textarea rows=\"13\" cols=\"50\" onclick=\"this.select()\" readonly>%\\usepackage[table]{xcolor} % include this for color\n",
       "%\\usepackage{rotating} % include this for rotate header\n",
       "%\\documentclass[xcolor=table]{beamer} % for beamer\n",
       "\\begin{tabular}{|c|c|c|}\n",
       "\\hline\n",
       "\\rotatebox{90}{} & \\rotatebox{90}{a} & \\rotatebox{90}{b}\\\\\n",
       "\\hline\n",
       "a & \\cellcolor[RGB]{255,117,117} 1.00 & \\cellcolor[RGB]{226,160,138} -0.69\\\\\n",
       "\\hline\n",
       "b & \\cellcolor[RGB]{226,160,138} -0.69 & \\cellcolor[RGB]{255,117,117} 1.00\\\\\n",
       "\\hline\n",
       "\\end{tabular}</textarea>\n",
       "            </pre>\n",
       "            "
      ]
     },
     "metadata": {},
     "output_type": "display_data"
    }
   ],
   "source": [
    "mincn.hesse();"
   ]
  },
  {
   "cell_type": "code",
   "execution_count": 19,
   "metadata": {
    "collapsed": false
   },
   "outputs": [
    {
     "data": {
      "text/html": [
       "\n",
       "        <span>Minos status for a: <span style=\"background-color:#92CCA6\">VALID</span></span>\n",
       "        <table>\n",
       "            <tr>\n",
       "                <td title=\"lower and upper minos error of the parameter\">Error</td>\n",
       "                <td>-0.0326062951032</td>\n",
       "                <td>0.031209848349</td>\n",
       "            </tr>\n",
       "            <tr>\n",
       "                <td title=\"Validity of minos error\">Valid</td>\n",
       "                <td style=\"background-color:#92CCA6\">True</td>\n",
       "                <td style=\"background-color:#92CCA6\">True</td>\n",
       "            </tr>\n",
       "            <tr>\n",
       "                <td title=\"Did minos error search hit limit of any paramter?\">At Limit</td>\n",
       "                <td style=\"background-color:#92CCA6\">False</td>\n",
       "                <td style=\"background-color:#92CCA6\">False</td>\n",
       "            </tr>\n",
       "            <tr>\n",
       "                <td title=\"I don't really know what this one means... Post it in issue if you know\">Max FCN</td>\n",
       "                <td style=\"background-color:#92CCA6\">False</td>\n",
       "                <td style=\"background-color:#92CCA6\">False</td>\n",
       "            </tr>\n",
       "            <tr>\n",
       "                <td title=\"New minimum found when doing minos scan.\">New Min</td>\n",
       "                <td style=\"background-color:#92CCA6\">False</td>\n",
       "                <td style=\"background-color:#92CCA6\">False</td>\n",
       "            </tr>\n",
       "        </table>\n",
       "        "
      ]
     },
     "metadata": {},
     "output_type": "display_data"
    },
    {
     "data": {
      "text/html": [
       "\n",
       "        <span>Minos status for b: <span style=\"background-color:#92CCA6\">VALID</span></span>\n",
       "        <table>\n",
       "            <tr>\n",
       "                <td title=\"lower and upper minos error of the parameter\">Error</td>\n",
       "                <td>-0.0500402203176</td>\n",
       "                <td>0.0350458653407</td>\n",
       "            </tr>\n",
       "            <tr>\n",
       "                <td title=\"Validity of minos error\">Valid</td>\n",
       "                <td style=\"background-color:#92CCA6\">True</td>\n",
       "                <td style=\"background-color:#92CCA6\">True</td>\n",
       "            </tr>\n",
       "            <tr>\n",
       "                <td title=\"Did minos error search hit limit of any paramter?\">At Limit</td>\n",
       "                <td style=\"background-color:#92CCA6\">False</td>\n",
       "                <td style=\"background-color:#92CCA6\">False</td>\n",
       "            </tr>\n",
       "            <tr>\n",
       "                <td title=\"I don't really know what this one means... Post it in issue if you know\">Max FCN</td>\n",
       "                <td style=\"background-color:#92CCA6\">False</td>\n",
       "                <td style=\"background-color:#92CCA6\">False</td>\n",
       "            </tr>\n",
       "            <tr>\n",
       "                <td title=\"New minimum found when doing minos scan.\">New Min</td>\n",
       "                <td style=\"background-color:#92CCA6\">False</td>\n",
       "                <td style=\"background-color:#92CCA6\">False</td>\n",
       "            </tr>\n",
       "        </table>\n",
       "        "
      ]
     },
     "metadata": {},
     "output_type": "display_data"
    }
   ],
   "source": [
    "mincn.minos();"
   ]
  },
  {
   "cell_type": "code",
   "execution_count": 20,
   "metadata": {
    "collapsed": false
   },
   "outputs": [
    {
     "data": {
      "image/png": "[encoded data removed]",
      "text/plain": [
       "<matplotlib.figure.Figure at 0x1081a3250>"
      ]
     },
     "metadata": {},
     "output_type": "display_data"
    }
   ],
   "source": [
    "mincn.draw_profile('a');"
   ]
  },
  {
   "cell_type": "code",
   "execution_count": 21,
   "metadata": {
    "collapsed": false
   },
   "outputs": [
    {
     "data": {
      "image/png": "[encoded data removed]",
      "text/plain": [
       "<matplotlib.figure.Figure at 0x1092dd350>"
      ]
     },
     "metadata": {},
     "output_type": "display_data"
    }
   ],
   "source": [
    "mincn.draw_profile('b');"
   ]
  },
  {
   "cell_type": "code",
   "execution_count": 23,
   "metadata": {
    "collapsed": false
   },
   "outputs": [
    {
     "data": {
      "image/png": "[encoded data removed]",
      "text/plain": [
       "<matplotlib.figure.Figure at 0x1096ad350>"
      ]
     },
     "metadata": {},
     "output_type": "display_data"
    }
   ],
   "source": [
    "mincn.draw_contour('a','b');"
   ]
  },
  {
   "cell_type": "markdown",
   "metadata": {},
   "source": [
    "## Do the same analysis by MCMC"
   ]
  },
  {
   "cell_type": "code",
   "execution_count": 24,
   "metadata": {
    "collapsed": true
   },
   "outputs": [],
   "source": [
    "import emcee"
   ]
  },
  {
   "cell_type": "markdown",
   "metadata": {},
   "source": [
    "emcee requires as input the log-likelihood of the posterior in the parameters a and b. In the following it is composed of the log-of the prior and the log-likelihood of the data. Initially use a simple uniform prior in a and b with the constraint b>0. Afterwards one can play with the prior to see how strongly it affects the result.  "
   ]
  },
  {
   "cell_type": "code",
   "execution_count": 25,
   "metadata": {
    "collapsed": true
   },
   "outputs": [],
   "source": [
    "def log_prior(theta):\n",
    "    a, b = theta\n",
    "    if b < 0:\n",
    "        return -np.inf  # log(0)\n",
    "    else:\n",
    "        return  0.\n",
    "\n",
    "def log_likelihood(theta, x):\n",
    "    a, b = theta\n",
    "    return np.sum(-a*np.log(x) - b*b*x)\n",
    "\n",
    "def log_posterior(theta, x):\n",
    "    a , b = theta\n",
    "    return log_prior(theta) + log_likelihood(theta, x) - np.log(pdfcn_norm(a,b))*len(x)  "
   ]
  },
  {
   "cell_type": "markdown",
   "metadata": {},
   "source": [
    "Here we'll set up the computation. emcee combines multiple \"walkers\", each of which is its own MCMC chain. The number of trace results will be nwalkers * nsteps"
   ]
  },
  {
   "cell_type": "code",
   "execution_count": 26,
   "metadata": {
    "collapsed": false
   },
   "outputs": [],
   "source": [
    "ndim     = 2     # number of parameters in the model\n",
    "nwalkers = 50    # number of MCMC walkers\n",
    "nburn    = 100   # \"burn-in\" period to let chains stabilize\n",
    "nsteps   = 1000  # number of MCMC steps to take\n",
    "\n",
    "# random starting point\n",
    "np.random.seed(0)\n",
    "starting_guesses = np.random.random((nwalkers, ndim))\n"
   ]
  },
  {
   "cell_type": "markdown",
   "metadata": {},
   "source": [
    "run the MCMC (and time it using IPython's %time magic"
   ]
  },
  {
   "cell_type": "code",
   "execution_count": 28,
   "metadata": {
    "collapsed": false
   },
   "outputs": [
    {
     "name": "stdout",
     "output_type": "stream",
     "text": [
      "CPU times: user 33 s, sys: 35 ms, total: 33 s\n",
      "Wall time: 33 s\n",
      "done\n"
     ]
    }
   ],
   "source": [
    "sampler = emcee.EnsembleSampler(nwalkers, ndim, log_posterior, args=[x])\n",
    "%time sampler.run_mcmc(starting_guesses, nsteps)\n",
    "print(\"done\")"
   ]
  },
  {
   "cell_type": "markdown",
   "metadata": {},
   "source": [
    "sampler.chain is of shape (nwalkers, nsteps, ndim). Before analysis throw-out the burn-in points and reshape."
   ]
  },
  {
   "cell_type": "code",
   "execution_count": 29,
   "metadata": {
    "collapsed": false
   },
   "outputs": [
    {
     "data": {
      "text/plain": [
       "45000"
      ]
     },
     "execution_count": 29,
     "metadata": {},
     "output_type": "execute_result"
    }
   ],
   "source": [
    "emcee_trace = sampler.chain[:, nburn:, :].reshape(-1, ndim).T\n",
    "len(emcee_trace[0])"
   ]
  },
  {
   "cell_type": "markdown",
   "metadata": {},
   "source": [
    "Analyse the results. Plot the projected (marginalized) posteriors for the parameters a and b and also the joinyt density as sampled by the MCMC."
   ]
  },
  {
   "cell_type": "code",
   "execution_count": 31,
   "metadata": {
    "collapsed": false
   },
   "outputs": [
    {
     "data": {
      "image/png": "[encoded data removed]",
      "text/plain": [
       "<matplotlib.figure.Figure at 0x1097b9b90>"
      ]
     },
     "metadata": {},
     "output_type": "display_data"
    }
   ],
   "source": [
    "plt.hist(emcee_trace[0], 100, range=(2.5,3.5) , histtype='stepfilled', color='cyan');"
   ]
  },
  {
   "cell_type": "code",
   "execution_count": 33,
   "metadata": {
    "collapsed": false
   },
   "outputs": [
    {
     "data": {
      "image/png": "[encoded data removed]",
      "text/plain": [
       "<matplotlib.figure.Figure at 0x1081c8b90>"
      ]
     },
     "metadata": {},
     "output_type": "display_data"
    }
   ],
   "source": [
    "plt.hist(emcee_trace[1], 100, range=(0.,0.5) , histtype='stepfilled', color='cyan');"
   ]
  },
  {
   "cell_type": "code",
   "execution_count": 34,
   "metadata": {
    "collapsed": false
   },
   "outputs": [
    {
     "data": {
      "image/png": "[encoded data removed]",
      "text/plain": [
       "<matplotlib.figure.Figure at 0x107ca4690>"
      ]
     },
     "metadata": {},
     "output_type": "display_data"
    }
   ],
   "source": [
    "plt.plot(emcee_trace[0],emcee_trace[1],',k');"
   ]
  },
  {
   "cell_type": "markdown",
   "metadata": {},
   "source": [
    "As a final step, generate 2-dim bayesian confidence level contours containing 68.3% and 95.5% probability content. For that define a convenient plot functions and use them. Overlay the contours with the scatter plot."
   ]
  },
  {
   "cell_type": "code",
   "execution_count": 35,
   "metadata": {
    "collapsed": false
   },
   "outputs": [
    {
     "data": {
      "text/plain": [
       "[<matplotlib.lines.Line2D at 0x10793f150>]"
      ]
     },
     "execution_count": 35,
     "metadata": {},
     "output_type": "execute_result"
    },
    {
     "data": {
      "image/png": "[encoded data removed]",
      "text/plain": [
       "<matplotlib.figure.Figure at 0x10793f9d0>"
      ]
     },
     "metadata": {},
     "output_type": "display_data"
    }
   ],
   "source": [
    "def compute_sigma_level(trace1, trace2, nbins=20):\n",
    "    \"\"\"From a set of traces, bin by number of standard deviations\"\"\"\n",
    "    L, xbins, ybins = np.histogram2d(trace1, trace2, nbins)\n",
    "    L[L == 0] = 1E-16\n",
    "    logL = np.log(L)\n",
    "\n",
    "    shape = L.shape\n",
    "    L = L.ravel()\n",
    "\n",
    "    # obtain the indices to sort and unsort the flattened array\n",
    "    i_sort = np.argsort(L)[::-1]\n",
    "    i_unsort = np.argsort(i_sort)\n",
    "\n",
    "    L_cumsum = L[i_sort].cumsum()\n",
    "    L_cumsum /= L_cumsum[-1]\n",
    "    \n",
    "    xbins = 0.5 * (xbins[1:] + xbins[:-1])\n",
    "    ybins = 0.5 * (ybins[1:] + ybins[:-1])\n",
    "\n",
    "    return xbins, ybins, L_cumsum[i_unsort].reshape(shape)\n",
    "\n",
    "\n",
    "xbins, ybins, sigma = compute_sigma_level(emcee_trace[0], emcee_trace[1])\n",
    "plt.contour(xbins, ybins, sigma.T, levels=[0.683, 0.955])\n",
    "plt.plot(emcee_trace[0], emcee_trace[1], ',k', alpha=0.1)"
   ]
  },
  {
   "cell_type": "code",
   "execution_count": null,
   "metadata": {
    "collapsed": true
   },
   "outputs": [],
   "source": []
  }
 ],
 "metadata": {
  "kernelspec": {
   "display_name": "Python 2",
   "language": "python",
   "name": "python2"
  },
  "language_info": {
   "codemirror_mode": {
    "name": "ipython",
    "version": 2
   },
   "file_extension": ".py",
   "mimetype": "text/x-python",
   "name": "python",
   "nbconvert_exporter": "python",
   "pygments_lexer": "ipython2",
   "version": "2.7.10"
  }
 },
 "nbformat": 4,
 "nbformat_minor": 0
}
