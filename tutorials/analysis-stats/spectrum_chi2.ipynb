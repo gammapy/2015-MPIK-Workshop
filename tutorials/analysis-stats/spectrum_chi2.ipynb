{
 "cells": [
  {
   "cell_type": "markdown",
   "metadata": {},
   "source": [
    "# Fitting the H.E.S.S. Crab spectrum with iminuit and emcee\n",
    "\n",
    "As an example of a chi^2 fit, we use the flux points from the Crab nebula\n",
    "as measured by H.E.S.S. in 2006:  http://adsabs.harvard.edu/abs/2006A%26A...457..899A"
   ]
  },
  {
   "cell_type": "code",
   "execution_count": 1,
   "metadata": {
    "collapsed": true
   },
   "outputs": [],
   "source": [
    "%matplotlib inline\n",
    "import numpy as np\n",
    "import pandas as pd\n",
    "import matplotlib.pyplot as plt\n",
    "plt.style.use('ggplot')"
   ]
  },
  {
   "cell_type": "markdown",
   "metadata": {},
   "source": [
    "## The data\n",
    "\n",
    "We start by loading the flux points from a text file.\n",
    "\n",
    "It is of course possible to load this data using just Python\n",
    "or Numpy, but we'll use the [pandas.read_table](http://pandas.pydata.org/pandas-docs/stable/generated/pandas.read_table.html) function\n",
    "because it's very flexible, i.e. by setting a few arguments you'll\n",
    "be able to load most ascii tables."
   ]
  },
  {
   "cell_type": "code",
   "execution_count": 2,
   "metadata": {
    "collapsed": false
   },
   "outputs": [
    {
     "data": {
      "text/html": [
       "<div>\n",
       "<table border=\"1\" class=\"dataframe\">\n",
       "  <thead>\n",
       "    <tr style=\"text-align: right;\">\n",
       "      <th></th>\n",
       "      <th>energy</th>\n",
       "      <th>flux</th>\n",
       "      <th>flux_err</th>\n",
       "    </tr>\n",
       "  </thead>\n",
       "  <tbody>\n",
       "    <tr>\n",
       "      <th>0</th>\n",
       "      <td>0.519</td>\n",
       "      <td>1.810000e-10</td>\n",
       "      <td>6.000000e-12</td>\n",
       "    </tr>\n",
       "    <tr>\n",
       "      <th>1</th>\n",
       "      <td>0.729</td>\n",
       "      <td>7.270000e-11</td>\n",
       "      <td>2.000000e-12</td>\n",
       "    </tr>\n",
       "    <tr>\n",
       "      <th>2</th>\n",
       "      <td>1.060</td>\n",
       "      <td>3.120000e-11</td>\n",
       "      <td>9.000000e-13</td>\n",
       "    </tr>\n",
       "    <tr>\n",
       "      <th>3</th>\n",
       "      <td>1.550</td>\n",
       "      <td>1.220000e-11</td>\n",
       "      <td>4.000000e-13</td>\n",
       "    </tr>\n",
       "    <tr>\n",
       "      <th>4</th>\n",
       "      <td>2.260</td>\n",
       "      <td>4.600000e-12</td>\n",
       "      <td>1.800000e-13</td>\n",
       "    </tr>\n",
       "    <tr>\n",
       "      <th>5</th>\n",
       "      <td>3.300</td>\n",
       "      <td>1.530000e-12</td>\n",
       "      <td>8.000000e-14</td>\n",
       "    </tr>\n",
       "    <tr>\n",
       "      <th>6</th>\n",
       "      <td>4.890</td>\n",
       "      <td>6.350000e-13</td>\n",
       "      <td>3.900000e-14</td>\n",
       "    </tr>\n",
       "    <tr>\n",
       "      <th>7</th>\n",
       "      <td>7.180</td>\n",
       "      <td>2.270000e-13</td>\n",
       "      <td>1.800000e-14</td>\n",
       "    </tr>\n",
       "    <tr>\n",
       "      <th>8</th>\n",
       "      <td>10.400</td>\n",
       "      <td>6.490000e-14</td>\n",
       "      <td>7.700000e-15</td>\n",
       "    </tr>\n",
       "    <tr>\n",
       "      <th>9</th>\n",
       "      <td>14.800</td>\n",
       "      <td>1.750000e-14</td>\n",
       "      <td>3.300000e-15</td>\n",
       "    </tr>\n",
       "    <tr>\n",
       "      <th>10</th>\n",
       "      <td>20.900</td>\n",
       "      <td>7.260000e-15</td>\n",
       "      <td>1.700000e-15</td>\n",
       "    </tr>\n",
       "    <tr>\n",
       "      <th>11</th>\n",
       "      <td>30.500</td>\n",
       "      <td>9.580000e-16</td>\n",
       "      <td>5.600000e-16</td>\n",
       "    </tr>\n",
       "  </tbody>\n",
       "</table>\n",
       "</div>"
      ],
      "text/plain": [
       "    energy          flux      flux_err\n",
       "0    0.519  1.810000e-10  6.000000e-12\n",
       "1    0.729  7.270000e-11  2.000000e-12\n",
       "2    1.060  3.120000e-11  9.000000e-13\n",
       "3    1.550  1.220000e-11  4.000000e-13\n",
       "4    2.260  4.600000e-12  1.800000e-13\n",
       "5    3.300  1.530000e-12  8.000000e-14\n",
       "6    4.890  6.350000e-13  3.900000e-14\n",
       "7    7.180  2.270000e-13  1.800000e-14\n",
       "8   10.400  6.490000e-14  7.700000e-15\n",
       "9   14.800  1.750000e-14  3.300000e-15\n",
       "10  20.900  7.260000e-15  1.700000e-15\n",
       "11  30.500  9.580000e-16  5.600000e-16"
      ]
     },
     "execution_count": 2,
     "metadata": {},
     "output_type": "execute_result"
    }
   ],
   "source": [
    "data = pd.read_table('spectrum_crab_hess_2006.txt',\n",
    "                    comment='#', sep='\\s*', engine='python')\n",
    "data"
   ]
  },
  {
   "cell_type": "markdown",
   "metadata": {},
   "source": [
    "## The model\n",
    "\n",
    "In the paper they fit a power-law with an exponential cutoff and find the following parameters (see row \"all\" in table 6):\n",
    "* gamma = 2.39 +- 0.03\n",
    "* energy_cut = 14.3 +- 2.1 TeV\n",
    "* flux1 = (3.76 +- 0.07) x 1e-11 cm^-2 s^-1 TeV^-1\n",
    "\n",
    "The flux1 is the differential flux at 1 TeV.\n",
    "\n",
    "Let's code up that model ...\n",
    "\n",
    "\n",
    "TODO: extend this tutorial to also consider a power-law model and compare the two models via chi2 / ndf."
   ]
  },
  {
   "cell_type": "code",
   "execution_count": 3,
   "metadata": {
    "collapsed": true
   },
   "outputs": [],
   "source": [
    "def flux_ecpl(energy, flux1, gamma, energy_cut):\n",
    "    return flux1 * energy ** (-gamma) * np.exp(-energy / energy_cut)"
   ]
  },
  {
   "cell_type": "markdown",
   "metadata": {},
   "source": [
    "## Plot data and model\n",
    "\n",
    "Let's plot the data and model and compare to Figure 18b\n",
    "from the paper ..."
   ]
  },
  {
   "cell_type": "code",
   "execution_count": 4,
   "metadata": {
    "collapsed": false
   },
   "outputs": [
    {
     "data": {
      "image/png": "[encoded data removed]",
      "text/plain": [
       "<matplotlib.figure.Figure at 0x111f02860>"
      ]
     },
     "metadata": {},
     "output_type": "display_data"
    }
   ],
   "source": [
    "energy = np.logspace(-0.5, 1.6, 100)\n",
    "flux = flux_ecpl(energy, flux1=3.76e-11, gamma=2.39, energy_cut=14.3)\n",
    "plt.plot(energy, flux)\n",
    "plt.errorbar(x=data['energy'],\n",
    "             y=data['flux'],\n",
    "             yerr=data['flux_err'],\n",
    "             fmt='.'\n",
    "            )\n",
    "plt.loglog();"
   ]
  },
  {
   "cell_type": "markdown",
   "metadata": {},
   "source": [
    "# The likelihood\n",
    "\n",
    "In this case we'll use a chi^2 likelihood function to\n",
    "fit the model to the data.\n",
    "\n",
    "Note that the likelihood function combines the data and model, and just depends on the model parameters that\n",
    "shall be estimated (whereas the model function `flux_ecpl` has an extra parameter `energy`).\n",
    "\n",
    "Also note that we're accessing `data` and model `flux_ecpl` from the global scope instead of passing them in explicitly as parameters. Modeling and fitting frameworks like e.g. Sherpa have more elaborate ways to combine data and models and likelihood functions, but for simple, small code examples like we do here, using the global scope to tie things together works just fine."
   ]
  },
  {
   "cell_type": "code",
   "execution_count": 5,
   "metadata": {
    "collapsed": true
   },
   "outputs": [],
   "source": [
    "def chi2(flux1, gamma, energy_cut):\n",
    "    energy = data['energy']\n",
    "    flux_model = flux_ecpl(energy, flux1, gamma, energy_cut)\n",
    "    chi = (data['flux'] - flux_model) / data['flux_err']\n",
    "    return np.sum(chi ** 2)"
   ]
  },
  {
   "cell_type": "code",
   "execution_count": 6,
   "metadata": {
    "collapsed": true
   },
   "outputs": [],
   "source": [
    "# TODO: visualise the likelihood as a 1D profile or\n",
    "# 2D contour to check that the implementation is OK\n",
    "# before fitting. E.g. reproduce Fig 19 from the paper?\n",
    "# Maybe talk about how chi2 differences relate to\n",
    "# confidence levels here?"
   ]
  },
  {
   "cell_type": "markdown",
   "metadata": {},
   "source": [
    "## ML fit with Minuit\n",
    "\n",
    "Let's use Minuit to do a maximum likelihood (ML) analysis.\n",
    "\n",
    "Note that this is not what they did in the paper (TODO: check), so it's not surprising if best-fit results\n",
    "are a little different."
   ]
  },
  {
   "cell_type": "code",
   "execution_count": 7,
   "metadata": {
    "collapsed": true
   },
   "outputs": [],
   "source": [
    "from iminuit import Minuit\n",
    "\n",
    "# TODO"
   ]
  },
  {
   "cell_type": "markdown",
   "metadata": {},
   "source": [
    "## Analysis with emcee\n",
    "\n",
    "- Should we only do Bayesian analysis? (posterior sampling)\n",
    "- Or should we start with a ML analysis (likelihood sampling and compare with iminuit)"
   ]
  },
  {
   "cell_type": "code",
   "execution_count": 8,
   "metadata": {
    "collapsed": true
   },
   "outputs": [],
   "source": [
    "import emcee\n",
    "\n",
    "# TODO"
   ]
  },
  {
   "cell_type": "markdown",
   "metadata": {},
   "source": [
    "## Error propagation\n",
    "\n",
    "Often the fit parameters are not the quantities quoted when\n",
    "reporting the analysis results. Instead some other quantity\n",
    "that is a function of the fit parameters is of interest.\n",
    "\n",
    "In the Crab paper, the integral flux above 1 TeV is the\n",
    "main flux quantity that's reported int the abstract.\n",
    "\n",
    "Let's see how we can compute it and propagate the error\n",
    "on that quantity.\n",
    "\n",
    "TODO:\n",
    "- The samples from emcee can be used to do this.\n",
    "- For the iminuit analysis I'm not sure it's easily possible. There is [uncertainties](http://pythonhosted.org/uncertainties/), but it requires analytical formulae (automatic differentiation), and the integral flux of ECPL has to be computed numerically. Does it still work?\n",
    "- Maybe we should compute and plot \"spectrum butterflies\" as well?"
   ]
  },
  {
   "cell_type": "code",
   "execution_count": null,
   "metadata": {
    "collapsed": true
   },
   "outputs": [],
   "source": []
  }
 ],
 "metadata": {
  "kernelspec": {
   "display_name": "Python 3",
   "language": "python",
   "name": "python3"
  },
  "language_info": {
   "codemirror_mode": {
    "name": "ipython",
    "version": 3
   },
   "file_extension": ".py",
   "mimetype": "text/x-python",
   "name": "python",
   "nbconvert_exporter": "python",
   "pygments_lexer": "ipython3",
   "version": "3.4.3"
  }
 },
 "nbformat": 4,
 "nbformat_minor": 0
}
