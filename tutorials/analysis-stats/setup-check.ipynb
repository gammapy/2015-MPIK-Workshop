{
 "cells": [
  {
   "cell_type": "markdown",
   "metadata": {},
   "source": [
    "# PyGamma15 statistics tutorial\n",
    "\n",
    "Welcome to the PyGamma15 statistics tutorial!\n",
    "\n",
    "The actual tutorial will consist of an IPython notebook\n",
    "with some descriptions and code to get you started,\n",
    "and instructions / excercises where you get to implement\n",
    "a statistical analysis.\n",
    "\n",
    "This IPython notebook is not the actual tutorial,\n",
    "it's just here for you to check if you have all the\n",
    "required software installed and working.\n",
    "\n",
    "Please install all the packages mentioned here\n",
    "and then execute the code below to verify that\n",
    "everything works **before the workshop or at least\n",
    "before the tutorial**.\n",
    "\n",
    "For further information see the description [here](https://github.com/gammapy/PyGamma15/blob/gh-pages/tutorials/analysis-stats/README.md)."
   ]
  },
  {
   "cell_type": "markdown",
   "metadata": {},
   "source": [
    "## Scientific Python packages\n",
    "\n",
    "You'll need numpy, pandas, scipy and matplotlib."
   ]
  },
  {
   "cell_type": "code",
   "execution_count": 1,
   "metadata": {
    "collapsed": true
   },
   "outputs": [],
   "source": [
    "%matplotlib inline\n",
    "import numpy as np\n",
    "import pandas as pd\n",
    "import scipy.stats\n",
    "import matplotlib.pyplot as plt\n",
    "plt.style.use('ggplot')"
   ]
  },
  {
   "cell_type": "code",
   "execution_count": 2,
   "metadata": {
    "collapsed": false
   },
   "outputs": [
    {
     "data": {
      "image/png": "[encoded data removed]",
      "text/plain": [
       "<matplotlib.figure.Figure at 0x1041be2e8>"
      ]
     },
     "metadata": {},
     "output_type": "display_data"
    }
   ],
   "source": [
    "plt.plot([1, 3, 6], [2, 5, 3]);"
   ]
  },
  {
   "cell_type": "markdown",
   "metadata": {},
   "source": [
    "## iminuit\n",
    "\n",
    "Let's see if the first example from the [iminuit docs](http://iminuit.readthedocs.org/en/latest/) works ..."
   ]
  },
  {
   "cell_type": "code",
   "execution_count": 3,
   "metadata": {
    "collapsed": false
   },
   "outputs": [
    {
     "name": "stdout",
     "output_type": "stream",
     "text": [
      "{'x': 2.0000000000047327, 'z': 4.000000000009465, 'y': 3.000000000007099}\n",
      "{'x': 1.0000000000000409, 'z': 0.9999999999998322, 'y': 1.0000000000002762}\n"
     ]
    }
   ],
   "source": [
    "from iminuit import Minuit\n",
    "\n",
    "def f(x, y, z):\n",
    "    return (x - 2) ** 2 + (y - 3) ** 2 + (z - 4) ** 2\n",
    "\n",
    "m = Minuit(f, pedantic=False, print_level=0)\n",
    "m.migrad()\n",
    "print(m.values)  # {'x': 2,'y': 3,'z': 4}\n",
    "print(m.errors)  # {'x': 1,'y': 1,'z': 1}"
   ]
  },
  {
   "cell_type": "markdown",
   "metadata": {},
   "source": [
    "## emcee\n",
    "\n",
    "Same for [emcee](http://dan.iel.fm/emcee/current/) ... let's see if the first example from the docs works.\n",
    "\n",
    "(You don't have to understand what this does for now ... just check if it runs for you without error.)"
   ]
  },
  {
   "cell_type": "code",
   "execution_count": 4,
   "metadata": {
    "collapsed": false
   },
   "outputs": [],
   "source": [
    "import emcee\n",
    "\n",
    "def lnprob(x, ivar):\n",
    "    return -0.5 * np.sum(ivar * x ** 2)\n",
    "\n",
    "ndim, nwalkers = 10, 100\n",
    "ivar = 1. / np.random.rand(ndim)\n",
    "p0 = [np.random.rand(ndim) for i in range(nwalkers)]\n",
    "\n",
    "sampler = emcee.EnsembleSampler(nwalkers, ndim, lnprob, args=[ivar])\n",
    "samples = sampler.run_mcmc(p0, 1000)"
   ]
  },
  {
   "cell_type": "markdown",
   "metadata": {
    "collapsed": true
   },
   "source": [
    "## uncertainties\n",
    "\n",
    "We might also use the [uncertainties](http://pythonhosted.org/uncertainties/) package for error propagation. So please install that as well ..."
   ]
  },
  {
   "cell_type": "code",
   "execution_count": 5,
   "metadata": {
    "collapsed": false
   },
   "outputs": [
    {
     "name": "stdout",
     "output_type": "stream",
     "text": [
      "2.00+/-0.20\n"
     ]
    }
   ],
   "source": [
    "from uncertainties import ufloat\n",
    "x = ufloat(1, 0.1)\n",
    "print(2 * x)"
   ]
  },
  {
   "cell_type": "code",
   "execution_count": null,
   "metadata": {
    "collapsed": true
   },
   "outputs": [],
   "source": []
  }
 ],
 "metadata": {
  "kernelspec": {
   "display_name": "Python 3",
   "language": "python",
   "name": "python3"
  },
  "language_info": {
   "codemirror_mode": {
    "name": "ipython",
    "version": 3
   },
   "file_extension": ".py",
   "mimetype": "text/x-python",
   "name": "python",
   "nbconvert_exporter": "python",
   "pygments_lexer": "ipython3",
   "version": "3.4.3"
  }
 },
 "nbformat": 4,
 "nbformat_minor": 0
}
