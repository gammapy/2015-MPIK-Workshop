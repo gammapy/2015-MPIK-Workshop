{
 "cells": [
  {
   "cell_type": "markdown",
   "metadata": {},
   "source": [
    "# CTAPIPE Tutorial\n",
    "\n",
    "ctapipe is pre-release software and is subject to wild changes over the next few months (restructuring, etc). It is under active developement, but is only in the very preliminary prototyping stage.\n",
    "\n",
    "## Setup:\n",
    "\n",
    "### python 3.4 is required! If you don't have it, type:\n",
    "\n",
    "```sh\n",
    "conda create -n py3 python=3.4 anaconda\n",
    "```\n",
    "\n",
    "Then wait, and when it's done, type:\n",
    "\n",
    "```\n",
    "source activate py3\n",
    "```\n",
    "\n",
    "### next, install pyhessio via conda (for low-level data access)\n",
    "\n",
    "```sh\n",
    "\n",
    "conda install conda-build # if you don't have it already\n",
    "\n",
    "git clone https://github.org/cta-observatory/pyhessio\n",
    "conda build pyhessio\n",
    "conda install --use-local pyhessio\n",
    "\n",
    "```\n",
    "\n",
    "### Next, fetch and install ctapipe in development mode:\n",
    "\n",
    "```sh\n",
    "\n",
    "% git clone https://github.org/cta-observatory/ctapipe\n",
    "% cd ctapipe\n",
    "% make init         # this will fetch the example data\n",
    "% make develop\n",
    "\n",
    "\n",
    "```"
   ]
  },
  {
   "cell_type": "markdown",
   "metadata": {},
   "source": [
    "## Next, try running the test suite and a tool:\n",
    "\n",
    "```sh\n",
    "% make test\n",
    "```\n",
    "\n",
    "Run a demo tool:\n",
    "\n",
    "```sh\n",
    "% ctapipe-camdemo\n",
    "```\n",
    "\n",
    "![camdemo](./camdemo.png \"camdemo\")\n",
    "\n",
    "if you don't get this animated window, or the tests fail, let me know"
   ]
  },
  {
   "cell_type": "markdown",
   "metadata": {},
   "source": [
    "## Notes\n",
    "\n",
    "### tools\n",
    "\n",
    "* `ctapipe` is a framework for making *tools* (which are by default command-line tools)\n",
    "* there is a prelminary command-line option handling system (based on argparse) that can write all parameters used to a FITS header, for future re-use\n",
    "* tools are just scripts in the `ctapipe/tools/` directory, and their main funcion needs to be declared in `setup.py`\n",
    "* they get automatically installed in your path\n",
    "\n",
    "try:\n",
    "\n",
    "```sh\n",
    "% ctapipe-info\n",
    "```"
   ]
  },
  {
   "cell_type": "code",
   "execution_count": null,
   "metadata": {
    "collapsed": false
   },
   "outputs": [],
   "source": [
    "%%sh\n",
    "ctapipe-info"
   ]
  },
  {
   "cell_type": "code",
   "execution_count": null,
   "metadata": {
    "collapsed": false
   },
   "outputs": [],
   "source": [
    "%%sh\n",
    "ctapipe-info --version\n",
    "ctapipe-info --dependencies\n",
    "ctapipe-info --tools"
   ]
  },
  {
   "cell_type": "markdown",
   "metadata": {},
   "source": [
    "So there are so far not a lot of tools... the API is more interesting to start with. \n",
    "\n",
    "**NOTE**: however that this is pre-alpha, very rough software, so not much is implemented. It's in the prototyping phase, and things will change rapidly."
   ]
  },
  {
   "cell_type": "markdown",
   "metadata": {},
   "source": [
    "### See what the package provides so far...\n",
    "\n",
    "go to the documentation at:\n",
    "\n",
    "https://cta-observatory.github.io/ctapipe/"
   ]
  },
  {
   "cell_type": "markdown",
   "metadata": {
    "collapsed": true
   },
   "source": [
    "## Let's explore some fake data..."
   ]
  },
  {
   "cell_type": "code",
   "execution_count": null,
   "metadata": {
    "collapsed": false
   },
   "outputs": [],
   "source": [
    "%matplotlib inline\n",
    "import warnings\n",
    "warnings.filterwarnings(\"ignore\")  # get rid of some annoyances in latest matplotlib\n",
    "\n",
    "import matplotlib.pyplot as plt\n",
    "import numpy as np\n",
    "\n",
    "from ctapipe.io import CameraGeometry\n",
    "from ctapipe.visualization import CameraDisplay"
   ]
  },
  {
   "cell_type": "markdown",
   "metadata": {},
   "source": [
    "first let's load up a blank image.  Rememeber that *images* in Cherenkov Cameras are generalized: they must be represented as 2 things, a `CameraGeometry` and *Data* (an array of pixel values)\n",
    "\n",
    "We'll start with the HESS geometry, since it's the only one included so far that doesn't need to be extracted from a real data file"
   ]
  },
  {
   "cell_type": "code",
   "execution_count": null,
   "metadata": {
    "collapsed": false
   },
   "outputs": [],
   "source": [
    "geom = CameraGeometry.from_name(\"HESS\",1)  "
   ]
  },
  {
   "cell_type": "code",
   "execution_count": null,
   "metadata": {
    "collapsed": false
   },
   "outputs": [],
   "source": [
    "geom.pix_x"
   ]
  },
  {
   "cell_type": "code",
   "execution_count": null,
   "metadata": {
    "collapsed": false
   },
   "outputs": [],
   "source": [
    "geom.pix_area"
   ]
  },
  {
   "cell_type": "code",
   "execution_count": null,
   "metadata": {
    "collapsed": false
   },
   "outputs": [],
   "source": [
    "plt.scatter(geom.pix_x, geom.pix_y)"
   ]
  },
  {
   "cell_type": "markdown",
   "metadata": {},
   "source": [
    "nice, but we can do better via the visualization module:"
   ]
  },
  {
   "cell_type": "code",
   "execution_count": null,
   "metadata": {
    "collapsed": false
   },
   "outputs": [],
   "source": [
    "image = np.random.uniform(size=len(geom.pix_id))\n",
    "disp = CameraDisplay(geom, image=image)"
   ]
  },
  {
   "cell_type": "code",
   "execution_count": null,
   "metadata": {
    "collapsed": false
   },
   "outputs": [],
   "source": [
    "# better fake data:\n",
    "%matplotlib inline\n",
    "from ctapipe.reco import generate_2d_shower_model, make_mock_shower_image\n",
    "\n",
    "showermodel = generate_2d_shower_model(centroid=(0.2, 0.05),length=0.05, width=0.1,psi='40d')\n",
    "print(showermodel)\n",
    "print(showermodel.pdf)"
   ]
  },
  {
   "cell_type": "code",
   "execution_count": null,
   "metadata": {
    "collapsed": true
   },
   "outputs": [],
   "source": [
    "im, sig, bg = make_mock_shower_image(geom, showermodel.pdf,intensity=10,nsb_level_pe=100)"
   ]
  },
  {
   "cell_type": "code",
   "execution_count": null,
   "metadata": {
    "collapsed": false
   },
   "outputs": [],
   "source": [
    "disp = CameraDisplay(geom, image=im)"
   ]
  },
  {
   "cell_type": "markdown",
   "metadata": {},
   "source": [
    "## Interactive data analysis\n",
    "\n",
    "CameraDisplays are pretty interactive, which doesn't work in notebook mode (so we will continue in windowed mode)\n",
    "\n",
    "We will write a script to\n",
    "* generate a fake calibrated shower image\n",
    "* apply image cleaning\n",
    "* calculate hillas parameters"
   ]
  },
  {
   "cell_type": "code",
   "execution_count": null,
   "metadata": {
    "collapsed": false
   },
   "outputs": [],
   "source": [
    "# switch back to window (no more plots in the notebook)\n",
    "%matplotlib"
   ]
  },
  {
   "cell_type": "code",
   "execution_count": null,
   "metadata": {
    "collapsed": false
   },
   "outputs": [],
   "source": [
    "disp = CameraDisplay(geom)\n",
    "disp.image = im"
   ]
  },
  {
   "cell_type": "markdown",
   "metadata": {},
   "source": [
    "look for the popup window! It may be behind your browser...\n",
    "\n",
    "Try using the pan and zoom tools"
   ]
  },
  {
   "cell_type": "code",
   "execution_count": null,
   "metadata": {
    "collapsed": false
   },
   "outputs": [],
   "source": [
    "disp.enable_pixel_picker()"
   ]
  },
  {
   "cell_type": "code",
   "execution_count": null,
   "metadata": {
    "collapsed": false
   },
   "outputs": [],
   "source": [
    "# change the image\n",
    "image[20:50] = 1.0\n",
    "image[400:450] = 0.5\n",
    "disp.image = image"
   ]
  },
  {
   "cell_type": "code",
   "execution_count": null,
   "metadata": {
    "collapsed": false
   },
   "outputs": [],
   "source": [
    "# change the normalization or limits:\n",
    "disp.norm = 'log' # or lin, or any matplotlib.colors.Normalization"
   ]
  },
  {
   "cell_type": "code",
   "execution_count": null,
   "metadata": {
    "collapsed": true
   },
   "outputs": [],
   "source": [
    "disp.norm = 'lin'"
   ]
  },
  {
   "cell_type": "code",
   "execution_count": null,
   "metadata": {
    "collapsed": false
   },
   "outputs": [],
   "source": [
    "disp.add_colorbar()"
   ]
  },
  {
   "cell_type": "code",
   "execution_count": null,
   "metadata": {
    "collapsed": false
   },
   "outputs": [],
   "source": [
    "# change the colorbar and limits\n",
    "\n",
    "disp.cmap = 'jet'  # try others (see below)"
   ]
  },
  {
   "cell_type": "markdown",
   "metadata": {},
   "source": [
    "gnuplot, Set1, gnuplot2_r, Blues, Set2, gist_ncar_r, gist_ncar, BrBG, Paired, BuPu, RdGy, gist_earth_r, Spectral, gist_stern_r, YlGn_r, autumn, Greys, gist_gray_r, winter, flag, Paired_r, ocean, PuBuGn, rainbow_r, hsv_r, hot, YlGnBu_r, Blues_r, spring, Oranges, bone_r, prism_r, BuPu_r, pink, hot_r, coolwarm, gist_earth, OrRd, Purples_r, gist_yarg_r, YlOrRd_r, Accent, gist_rainbow, PRGn_r, cool_r, PRGn, flag_r, PuOr, winter_r, summer_r, brg, gray_r, afmhot_r, jet_r, cubehelix, PuRd, YlOrBr, Spectral_r, gist_stern, BrBG_r, PuRd_r, YlGn, RdYlBu_r, RdYlGn_r, autumn_r, YlGnBu, afmhot, RdPu, binary, bone, RdYlGn, nipy_spectral_r, spring_r, Set3, coolwarm_r, terrain_r, spectral, gist_yarg, RdYlBu, RdGy_r, PiYG_r, gist_heat, Pastel1, PuOr_r, PuBu, jet, gist_rainbow_r, rainbow, pink_r, Purples, nipy_spectral, Accent_r, Wistia_r, Pastel2_r, copper, bwr, seismic, Greens_r, summer, cool, YlOrRd, CMRmap_r, Dark2_r, Wistia, seismic_r, RdBu, gist_heat_r, Pastel1_r, binary_r, GnBu_r, PiYG, spectral_r, GnBu, RdPu_r, YlOrBr_r, PuBu_r, PuBuGn_r, Dark2, prism, BuGn, RdBu_r, gist_gray, ocean_r, BuGn_r, gnuplot2, Set3_r, copper_r, OrRd_r, Greens, Set2_r, gnuplot_r, Oranges_r, brg_r, cubehelix_r, Reds_r, Set1_r, gray, Reds, bwr_r, hsv, terrain, Pastel2, Greys_r, CMRmap"
   ]
  },
  {
   "cell_type": "markdown",
   "metadata": {},
   "source": [
    "### Exercise: Calcualte Hillas Parameters (2D moments of the signal distribution):\n",
    "\n",
    "* **step 1**: **Clean** the image (select only the pixels that have noise, since the noise will throw off the calculation)\n",
    " * note that tailcuts_clean defines its thresholds as a function of the pedestal variance (which here we do not know.  You can use a fixed value of 10 for this exercise)\n",
    "* **step 2**: pass the signal pixels to the hillas_parameters routine\n",
    "* **step 3**: overlay the ellipse with disp.overlay_moment_ellipse()\n",
    "\n"
   ]
  },
  {
   "cell_type": "code",
   "execution_count": null,
   "metadata": {
    "collapsed": false
   },
   "outputs": [],
   "source": [
    "%matplotlib inline\n",
    "from ctapipe.reco.cleaning import tailcuts_clean, dilate\n",
    "from ctapipe.reco import hillas_parameters"
   ]
  },
  {
   "cell_type": "code",
   "execution_count": null,
   "metadata": {
    "collapsed": true
   },
   "outputs": [],
   "source": [
    "CameraDisplay(geom, image=im)"
   ]
  },
  {
   "cell_type": "markdown",
   "metadata": {},
   "source": [
    "clean the image"
   ]
  },
  {
   "cell_type": "code",
   "execution_count": null,
   "metadata": {
    "collapsed": true
   },
   "outputs": [],
   "source": [
    "# cleanmask = [code here]\n",
    "\n",
    "# im_cleaned = im.copy()\n",
    "# im_cleaned =  [code here]\n",
    "\n",
    "# Display results!\n",
    "\n",
    "# plt.figure()\n",
    "# CameraDisplay(geom, image=cleanmask, title='mask')\n",
    "# plt.figure()\n",
    "# CameraDisplay(geom, image=im_cleaned, title='cleaned')"
   ]
  },
  {
   "cell_type": "markdown",
   "metadata": {
    "collapsed": true
   },
   "source": [
    "now parameterize the image using `hillas_parameters`"
   ]
  },
  {
   "cell_type": "code",
   "execution_count": null,
   "metadata": {
    "collapsed": true
   },
   "outputs": [],
   "source": [
    "# params = \n",
    "\n",
    "#disp = CameraDisplay(geom, image=im_cleaned)\n",
    "#disp.overlay_moments(params)"
   ]
  },
  {
   "cell_type": "markdown",
   "metadata": {},
   "source": [
    "Next, Interactively see the effect of wider cleanings!\n",
    "use the `dilate(geom, cleanmask)` function to \"widen\" the cleaning (each call widens it by one row of neighbor pixels), and redo your hillas parameterization (you can just insert this dilation  into your script above before you apply the clean mask to your image)"
   ]
  },
  {
   "cell_type": "markdown",
   "metadata": {},
   "source": [
    "### Next, is to look at some real data! For that there is a separate notebook:\n",
    "\n",
    "in the package you downloaded, look in:\n",
    "`ctapipe/examples/notebooks/raw_data_exploration.ipynb`\n",
    "\n",
    "(you can also view it non-interactively directly on github via:)"
   ]
  },
  {
   "cell_type": "code",
   "execution_count": null,
   "metadata": {
    "collapsed": true
   },
   "outputs": [],
   "source": []
  }
 ],
 "metadata": {
  "kernelspec": {
   "display_name": "Python 3",
   "language": "python",
   "name": "python3"
  },
  "language_info": {
   "codemirror_mode": {
    "name": "ipython",
    "version": 3
   },
   "file_extension": ".py",
   "mimetype": "text/x-python",
   "name": "python",
   "nbconvert_exporter": "python",
   "pygments_lexer": "ipython3",
   "version": "3.4.3"
  }
 },
 "nbformat": 4,
 "nbformat_minor": 0
}
